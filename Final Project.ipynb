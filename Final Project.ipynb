{
 "cells": [
  {
   "cell_type": "markdown",
   "metadata": {},
   "source": [
    "# Background Information\n",
    "\n",
    "This project seeks to gain insight on the representation of women in film over time. With the increase in popularity of female rights and representation in film recently, notably the “#MeToo” movement beginning in 2016, this project seeks to examine changes in patterns among movie audiences and creators, specifically before after the rise of “#MeToo”.\n",
    "This project was inspired by “The Dollar-And-Cents Case Against Hollywood’s Exclusion of Women” written by Walt Hickey, which examines 1,615 films released between 1990 and 2013 and “examines the relationship between the prominence of women in a film and that film’s budget and gross profits” (Hickey). The article uses the “Bechdel Test” to judge the gender equity of the film. The film “passes” the test if it fulfills 3 conditions: the movie stars at least two women, these two women must talk to each other and the conversation must be about something other than a man. We will be extending the findings of this article to the years after 2013 to today’s releases, finding if the #MeToo movement has indeed made an impact of gender equity in film.\n",
    "\n",
    "# The Data & Variables\n",
    "\n",
    "The data used in this project comes from two sources: BechdelTest.com and The-Numbers.com BechdelTest.com is an online forum operated by moviegoers who analyze whether or not movies entered pass the Bechdel Test. The site contains about 5000 films dating from the 1880s to newly released films, we selected movies from 2013, 2016, and 2019. To locate financial information on these films, we used The-Numbers.com - a leading website that contains box office and budget information for films. The variables used in this data set include the film title, the year it was released, a binary value of “pass/fail” indicating whether or not the film passed the test, the film’s budget, domestic gross, and international gross. Domestic gross is the earnings for the film in the United States and Canada, international gross is the earnings for the film in all other countries. We added variables for budget, domestic gross and international gross to adjust for inflation in 2019. The inflation rates were obtained from www.usinflationcalculator.com/. We also added a variable for return value, which adds domestic and international gross profit, subtracting budget. The data set of movies from 2013 was created by the writer of the Dollars-And-Cents article, while the data from 2016 and 2019 were collected by the team members of this project. Note that the films included in the data set were only movies that were on both BechdelTest.com and The-Numbers.com."
   ]
  },
  {
   "cell_type": "markdown",
   "metadata": {},
   "source": [
    "# Exploratory Analysis"
   ]
  },
  {
   "cell_type": "code",
   "execution_count": 13,
   "metadata": {},
   "outputs": [],
   "source": [
    "import pandas as pd\n",
    "import numpy as np\n",
    "import matplotlib.pyplot as plt\n",
    "from sklearn.linear_model import LinearRegression\n",
    "from sklearn import svm\n",
    "import seaborn as sns"
   ]
  },
  {
   "cell_type": "code",
   "execution_count": 75,
   "metadata": {},
   "outputs": [
    {
     "name": "stderr",
     "output_type": "stream",
     "text": [
      "/Users/rachelrusch/anaconda3/lib/python3.7/site-packages/ipykernel_launcher.py:33: SettingWithCopyWarning: \n",
      "A value is trying to be set on a copy of a slice from a DataFrame.\n",
      "Try using .loc[row_indexer,col_indexer] = value instead\n",
      "\n",
      "See the caveats in the documentation: http://pandas.pydata.org/pandas-docs/stable/indexing.html#indexing-view-versus-copy\n"
     ]
    }
   ],
   "source": [
    "#2013 Data Cleaning\n",
    "bechdel2013 = pd.read_csv(\"bechdel.csv\", index_col = 0)\n",
    "bechdel2013 = bechdel2013.drop(['imdb', 'test', 'clean_test', 'code', \n",
    "                'period_code', 'decade_code'], axis=1) # drop the unused columns\n",
    "nullobject = pd.isnull(bechdel2013)\n",
    "nullobject_i = np.where(nullobject)\n",
    "bechdel2013.iloc[nullobject_i] = 0 \n",
    "bechdel2013['budget_2019'] = 1.1 * bechdel2013.budget_2013 \n",
    "bechdel2013['domgross_2019'] = 1.1 * bechdel2013.domgross_2013\n",
    "bechdel2013['intgross_2019'] = 1.1 * bechdel2013.intgross_2013\n",
    "bechdel2013['return'] = bechdel2013.intgross_2019 + bechdel2013.domgross_2019 - bechdel2013.budget_2019\n",
    "bechdel2013 = bechdel2013[bechdel2013.year == 2013]\n",
    "bechdel2013 = bechdel2013.drop(['budget', 'domgross', 'intgross', 'budget_2013', 'domgross_2013', 'intgross_2013'], axis=1) # drop the unused columns\n",
    "bechdel2013 = bechdel2013.set_index('title')\n",
    "return2013 = pd.DataFrame(bechdel2013.loc[:,['binary', 'return']])\n",
    "return2013 = return2013.groupby(['binary']).sum()\n",
    "bechdel = pd.read_csv(\"2019 bechdel.csv\", index_col = 0, dtype = {'domgross':np.float64, 'year':np.int32})\n",
    "sep = bechdel[['domgross', 'intgross', 'budget']]\n",
    "ind = sep.dropna(how = 'all').index\n",
    "bechdel = bechdel.loc[ind,]\n",
    "bechdel2019 = bechdel[bechdel.year == 2019]\n",
    "bechdel2016 = bechdel[bechdel.year == 2016]\n",
    "#2016 Data\n",
    "bechdel2016.loc[:,'budget_2019'] = 1.07 * bechdel2016.loc[:,'budget']\n",
    "bechdel2016.loc[:,'domgross_2019'] = 1.07 * bechdel2016.domgross\n",
    "bechdel2016.loc[:,'intgross_2019'] = 1.07 * bechdel2016.loc[:,'intgross']\n",
    "bechdel2016.loc[:,'return'] = bechdel2016.loc[:,'intgross_2019'] + bechdel2016.loc[:,'domgross_2019'] - bechdel2016.loc[:,'budget_2019']\n",
    "bechdel2016 = bechdel2016.drop(['domgross', 'intgross', 'budget'], axis = 1)\n",
    "#2019 Data\n",
    "bechdel2019.loc[:,'budget_2019'] = bechdel2019.budget\n",
    "bechdel2019.loc[:,'domgross_2019'] = bechdel2019.domgross\n",
    "bechdel2019.loc[:,'intgross_2019'] = bechdel2019.intgross\n",
    "bechdel2019['return'] = bechdel2019.intgross_2019 + bechdel2019.domgross_2019 - bechdel2019.budget_2019\n",
    "bechdel2019 = bechdel2019.drop(['domgross', 'intgross', 'budget'], axis = 1)\n",
    "total = pd.concat([bechdel2013, bechdel2016, bechdel2019], sort = False)\n",
    "total['gross'] = total.intgross_2019 + total.domgross_2019"
   ]
  },
  {
   "cell_type": "markdown",
   "metadata": {},
   "source": [
    "## Trend Analysis\n",
    "Prior to 2013, the proportion of movies that failed flatlined after 2011, noted in \"The Dollars-And-Cents\" Case."
   ]
  },
  {
   "cell_type": "code",
   "execution_count": 137,
   "metadata": {},
   "outputs": [
    {
     "data": {
      "text/plain": [
       "Text(0.5, 1.0, 'Pass vs. Fail by Year')"
      ]
     },
     "execution_count": 137,
     "metadata": {},
     "output_type": "execute_result"
    },
    {
     "data": {
      "image/png": "[encoded data removed]",
      "text/plain": [
       "<Figure size 432x288 with 1 Axes>"
      ]
     },
     "metadata": {
      "needs_background": "light"
     },
     "output_type": "display_data"
    }
   ],
   "source": [
    "bechdel = pd.read_csv(\"bechdel.csv\", index_col = 0)\n",
    "bech_narm = bechdel.dropna(how = 'any')\n",
    "bech_pass = bech_narm.loc[bech_narm['binary'] == \"PASS\"].groupby('year').title.nunique()\n",
    "bech_fail = bech_narm.loc[bech_narm['binary'] == \"FAIL\"].groupby('year').title.nunique()\n",
    "count_by_year = pd.concat([bech_pass, bech_fail], axis = 1, sort = False)\n",
    "count_by_year = count_by_year.fillna(value = 0)\n",
    "count_by_year.columns = ['pass','fail']\n",
    "count_by_year = count_by_year.assign(PASS = lambda x : x['pass']/(x['pass']+x['fail']))\n",
    "count_by_year = count_by_year.assign(FAIL = lambda x : x['fail']/(x['pass']+x['fail']))\n",
    "count_by_year = count_by_year.drop(columns = ['pass','fail'])\n",
    "count_by_year[['PASS', 'FAIL']].plot(kind = 'bar', stacked = True, position = 0, color = ('orange', 'blue'))\n",
    "plt.title('Pass vs. Fail by Year')"
   ]
  },
  {
   "cell_type": "markdown",
   "metadata": {},
   "source": [
    "In 2013, there was about an equal amount of movies that passed and failed. In the Dollars-And-Cents case, Hickey notes than the proportion of movies that passed had “flatlined” from 2000-2013. After 2013, we see the proportion of pass to fail begin to grow. The amount of movies that pass now exceeds the amount of movies that fail the test. "
   ]
  },
  {
   "cell_type": "code",
   "execution_count": 77,
   "metadata": {},
   "outputs": [
    {
     "data": {
      "text/plain": [
       "Text(0.5, 1.0, 'Pass vs. Fail by Year')"
      ]
     },
     "execution_count": 77,
     "metadata": {},
     "output_type": "execute_result"
    },
    {
     "data": {
      "image/png": "[encoded data removed]",
      "text/plain": [
       "<Figure size 432x288 with 1 Axes>"
      ]
     },
     "metadata": {
      "needs_background": "light"
     },
     "output_type": "display_data"
    }
   ],
   "source": [
    "w_19 = bechdel2019.loc[:,('year', 'binary')]\n",
    "w_16 = bechdel2016.loc[:,('year', 'binary')]\n",
    "w_13 = bechdel2013.loc[:,('year', 'binary')]\n",
    "w = pd.concat([w_19, w_16, w_13])\n",
    "w = w.reset_index().rename(columns = {'index': 'film_name'})\n",
    "w_pass = w.loc[w['binary'] == \"PASS\"].groupby('year').film_name.nunique() \n",
    "w_fail = w.loc[w['binary'] == \"FAIL\"].groupby('year').film_name.nunique() \n",
    "count_by_year=pd.concat([w_pass, w_fail], axis=1, sort =False) \n",
    "#count_by_year=count_by_year.fi1lna(value = 0) \n",
    "count_by_year.columns= ['pass','fail']\n",
    "count_by_year=count_by_year.assign(PASS=lambda x:x ['pass' ]/(x['pass']+x['fail'])) \n",
    "count_by_year=count_by_year.assign(FAIL=lambda x:x ['fail' ]/(x['pass']+x['fail'])) \n",
    "count_by_year=count_by_year.drop(columns= ['pass', 'fail']) \n",
    "count_by_year [[ 'PASS','FAIL']].plot (kind='bar', stacked=True, position=0, color=('orange', 'blue'))\n",
    "plt.title('Pass vs. Fail by Year')"
   ]
  },
  {
   "cell_type": "code",
   "execution_count": 26,
   "metadata": {},
   "outputs": [
    {
     "data": {
      "text/html": [
       "<div>\n",
       "<style scoped>\n",
       "    .dataframe tbody tr th:only-of-type {\n",
       "        vertical-align: middle;\n",
       "    }\n",
       "\n",
       "    .dataframe tbody tr th {\n",
       "        vertical-align: top;\n",
       "    }\n",
       "\n",
       "    .dataframe thead th {\n",
       "        text-align: right;\n",
       "    }\n",
       "</style>\n",
       "<table border=\"1\" class=\"dataframe\">\n",
       "  <thead>\n",
       "    <tr style=\"text-align: right;\">\n",
       "      <th></th>\n",
       "      <th>PASS</th>\n",
       "      <th>FAIL</th>\n",
       "    </tr>\n",
       "    <tr>\n",
       "      <th>year</th>\n",
       "      <th></th>\n",
       "      <th></th>\n",
       "    </tr>\n",
       "  </thead>\n",
       "  <tbody>\n",
       "    <tr>\n",
       "      <th>2013</th>\n",
       "      <td>0.464646</td>\n",
       "      <td>0.535354</td>\n",
       "    </tr>\n",
       "    <tr>\n",
       "      <th>2016</th>\n",
       "      <td>0.612648</td>\n",
       "      <td>0.387352</td>\n",
       "    </tr>\n",
       "    <tr>\n",
       "      <th>2019</th>\n",
       "      <td>0.695652</td>\n",
       "      <td>0.304348</td>\n",
       "    </tr>\n",
       "  </tbody>\n",
       "</table>\n",
       "</div>"
      ],
      "text/plain": [
       "          PASS      FAIL\n",
       "year                    \n",
       "2013  0.464646  0.535354\n",
       "2016  0.612648  0.387352\n",
       "2019  0.695652  0.304348"
      ]
     },
     "execution_count": 26,
     "metadata": {},
     "output_type": "execute_result"
    }
   ],
   "source": [
    "count_by_year"
   ]
  },
  {
   "cell_type": "markdown",
   "metadata": {},
   "source": [
    "## Average Gross Earnings by Year\n",
    "After 2013, the data shows a higher increase in gross earnings for movies that pass the test versus movies that fail the test. In 2013, the average gross earnings for movies that passed the test fell short of those that failed by about 8 million dollars. In 2016, the average gross earnings for movies that passed the test surpassed the earnings of those that failed by 10 million dollars. In 2019, gross earnings for movies that passed surpassed movies that failed by 200 million dollars. This may indicate that audiences are now more willing to pay more for movies that pass the test."
   ]
  },
  {
   "cell_type": "code",
   "execution_count": 18,
   "metadata": {},
   "outputs": [
    {
     "data": {
      "text/html": [
       "<div>\n",
       "<style scoped>\n",
       "    .dataframe tbody tr th:only-of-type {\n",
       "        vertical-align: middle;\n",
       "    }\n",
       "\n",
       "    .dataframe tbody tr th {\n",
       "        vertical-align: top;\n",
       "    }\n",
       "\n",
       "    .dataframe thead tr th {\n",
       "        text-align: left;\n",
       "    }\n",
       "\n",
       "    .dataframe thead tr:last-of-type th {\n",
       "        text-align: right;\n",
       "    }\n",
       "</style>\n",
       "<table border=\"1\" class=\"dataframe\">\n",
       "  <thead>\n",
       "    <tr>\n",
       "      <th></th>\n",
       "      <th colspan=\"2\" halign=\"left\">gross</th>\n",
       "    </tr>\n",
       "    <tr>\n",
       "      <th>binary</th>\n",
       "      <th>FAIL</th>\n",
       "      <th>PASS</th>\n",
       "    </tr>\n",
       "    <tr>\n",
       "      <th>year</th>\n",
       "      <th></th>\n",
       "      <th></th>\n",
       "    </tr>\n",
       "  </thead>\n",
       "  <tbody>\n",
       "    <tr>\n",
       "      <th>2013</th>\n",
       "      <td>3.452977e+08</td>\n",
       "      <td>3.371010e+08</td>\n",
       "    </tr>\n",
       "    <tr>\n",
       "      <th>2016</th>\n",
       "      <td>1.144391e+08</td>\n",
       "      <td>1.318532e+08</td>\n",
       "    </tr>\n",
       "    <tr>\n",
       "      <th>2019</th>\n",
       "      <td>1.981420e+08</td>\n",
       "      <td>4.116373e+08</td>\n",
       "    </tr>\n",
       "  </tbody>\n",
       "</table>\n",
       "</div>"
      ],
      "text/plain": [
       "               gross              \n",
       "binary          FAIL          PASS\n",
       "year                              \n",
       "2013    3.452977e+08  3.371010e+08\n",
       "2016    1.144391e+08  1.318532e+08\n",
       "2019    1.981420e+08  4.116373e+08"
      ]
     },
     "execution_count": 18,
     "metadata": {},
     "output_type": "execute_result"
    }
   ],
   "source": [
    "a = total[['year', 'binary', 'gross']].groupby(['year','binary']).mean().unstack()\n",
    "a"
   ]
  },
  {
   "cell_type": "code",
   "execution_count": 19,
   "metadata": {},
   "outputs": [
    {
     "data": {
      "text/plain": [
       "Text(0.5, 1.0, 'Gross Earnings Over Time')"
      ]
     },
     "execution_count": 19,
     "metadata": {},
     "output_type": "execute_result"
    },
    {
     "data": {
      "image/png": "[encoded data removed]",
      "text/plain": [
       "<Figure size 432x288 with 1 Axes>"
      ]
     },
     "metadata": {
      "needs_background": "light"
     },
     "output_type": "display_data"
    }
   ],
   "source": [
    "a.plot(kind = 'bar')\n",
    "plt.legend(['Fail', 'Pass'], loc='upper center')\n",
    "plt.ylabel('gross')\n",
    "plt.title('Gross Earnings Over Time')"
   ]
  },
  {
   "cell_type": "markdown",
   "metadata": {},
   "source": [
    "In 2013, the average gross earnings for movies that passed the test fell short of those that failed by about 8 million dollars. In 2016, the average gross earnings for movies that passed the test surpassed the earnings of those that failed by 10 million dollars. In 2019, gross earnings for movies that passed surpassed movies that failed by 200 million dollars. This may indicate that audiences are now more willing to pay more for movies that pass the test."
   ]
  },
  {
   "cell_type": "markdown",
   "metadata": {},
   "source": [
    "## Average Budget by Year\n",
    "In the Dollars-and-Cents case, they presented evidence to show that the median budget suggested that Hollywood at the time put more money behind “male-only” films than films that featured women. This proved to be true in 2013, as the average budget for movies that passed the test was 5 million dollars lower than those that failed the test. But based on the data from 2016 and 2019, we see a shift in this behavior, as the average budget for films that pass the test surpass those that failed by 5 million dollars, indicating that Hollywood is starting to put more money toward films with equal representation in the years passing the films. The passing year in 2019 is still higher than both other years."
   ]
  },
  {
   "cell_type": "code",
   "execution_count": 20,
   "metadata": {},
   "outputs": [
    {
     "data": {
      "text/html": [
       "<div>\n",
       "<style scoped>\n",
       "    .dataframe tbody tr th:only-of-type {\n",
       "        vertical-align: middle;\n",
       "    }\n",
       "\n",
       "    .dataframe tbody tr th {\n",
       "        vertical-align: top;\n",
       "    }\n",
       "\n",
       "    .dataframe thead th {\n",
       "        text-align: right;\n",
       "    }\n",
       "</style>\n",
       "<table border=\"1\" class=\"dataframe\">\n",
       "  <thead>\n",
       "    <tr style=\"text-align: right;\">\n",
       "      <th>binary</th>\n",
       "      <th>FAIL</th>\n",
       "      <th>PASS</th>\n",
       "    </tr>\n",
       "    <tr>\n",
       "      <th>year</th>\n",
       "      <th></th>\n",
       "      <th></th>\n",
       "    </tr>\n",
       "  </thead>\n",
       "  <tbody>\n",
       "    <tr>\n",
       "      <th>2013</th>\n",
       "      <td>5.028870e+09</td>\n",
       "      <td>2.822600e+09</td>\n",
       "    </tr>\n",
       "    <tr>\n",
       "      <th>2016</th>\n",
       "      <td>3.492121e+09</td>\n",
       "      <td>5.140866e+09</td>\n",
       "    </tr>\n",
       "    <tr>\n",
       "      <th>2019</th>\n",
       "      <td>5.110000e+08</td>\n",
       "      <td>1.775800e+09</td>\n",
       "    </tr>\n",
       "  </tbody>\n",
       "</table>\n",
       "</div>"
      ],
      "text/plain": [
       "binary          FAIL          PASS\n",
       "year                              \n",
       "2013    5.028870e+09  2.822600e+09\n",
       "2016    3.492121e+09  5.140866e+09\n",
       "2019    5.110000e+08  1.775800e+09"
      ]
     },
     "execution_count": 20,
     "metadata": {},
     "output_type": "execute_result"
    }
   ],
   "source": [
    "budget_total=pd.concat([bechdel2013, bechdel2016 ,bechdel2019], sort = False)\n",
    "b = budget_total.groupby(['year','binary']).budget_2019.sum()\n",
    "b2 = b.unstack().fillna(value = 0)\n",
    "b2"
   ]
  },
  {
   "cell_type": "code",
   "execution_count": 21,
   "metadata": {},
   "outputs": [
    {
     "data": {
      "text/plain": [
       "<matplotlib.axes._subplots.AxesSubplot at 0x1a1f3a95c0>"
      ]
     },
     "execution_count": 21,
     "metadata": {},
     "output_type": "execute_result"
    },
    {
     "data": {
      "image/png": "[encoded data removed]",
      "text/plain": [
       "<Figure size 432x288 with 1 Axes>"
      ]
     },
     "metadata": {
      "needs_background": "light"
     },
     "output_type": "display_data"
    }
   ],
   "source": [
    "b2.plot(kind = \"bar\",title='Budget by Year')"
   ]
  },
  {
   "cell_type": "markdown",
   "metadata": {},
   "source": [
    "## Average Return by Year\n",
    "In Hickey’s article, they challenge the assumption that movies featuring more women see a lower return on investment. We looked at the average return value for movies in 2013, 2016 and 2019. In 2013, we see a lower return for movies that pass the test than those that fail. But in both 2016 and 2019 the return on investment for movies that fail surpasses the return for movies that fail by about 5 million dollars. This is yet another indicator that audiences are willing to pay more for movies with higher female representation."
   ]
  },
  {
   "cell_type": "code",
   "execution_count": 11,
   "metadata": {},
   "outputs": [
    {
     "data": {
      "text/plain": [
       "<matplotlib.axes._subplots.AxesSubplot at 0x1a201139b0>"
      ]
     },
     "execution_count": 11,
     "metadata": {},
     "output_type": "execute_result"
    },
    {
     "data": {
      "image/png": "[encoded data removed]",
      "text/plain": [
       "<Figure size 432x288 with 1 Axes>"
      ]
     },
     "metadata": {
      "needs_background": "light"
     },
     "output_type": "display_data"
    }
   ],
   "source": [
    "bechdel2019['RETURN'] = bechdel2019.intgross_2019 + bechdel2019.domgross_2019 - bechdel2019.budget_2019\n",
    "bechdel2016['RETURN'] = bechdel2016.intgross_2019 + bechdel2016.domgross_2019 - bechdel2016.budget_2019\n",
    "bechdel2013['RETURN'] = bechdel2013.intgross_2019 + bechdel2013.domgross_2019 - bechdel2013.budget_2019\n",
    "bechdel_return=pd.concat([bechdel2013, bechdel2016, bechdel2019], sort = False)\n",
    "c = bechdel_return.groupby(['year','binary']).RETURN.sum()\n",
    "c2 = c.unstack().fillna(value = 0)\n",
    "c2.plot(kind = \"bar\",title='Return by Year')"
   ]
  },
  {
   "cell_type": "markdown",
   "metadata": {},
   "source": [
    "## Marvel Movie Franchise¶\n",
    "While we know that the pass vs. fail rate of movies passing the Bechdel test are increasing over time, we wanted to ask if movies that were truly leading the movie industry of the time are following the same trend of gender equality. And what better depiction of a leader in the movie industry as the Marvel Cinematic Universe (MCU), the highest-grossing movie franchise of all time (Mentalfloss.com). The Marvel franchise has released 23 movies, releasing 11 movies just in 2016-2019 alone. We performed the same calculations as above on the 22 released movies in the Marvel Cinematic Universe. For this data, we created a data set of all 21 Marvel Movies in the franchise, released between 2008 and 2019."
   ]
  },
  {
   "cell_type": "code",
   "execution_count": 28,
   "metadata": {},
   "outputs": [
    {
     "data": {
      "text/plain": [
       "Text(0.5, 1.0, 'Pass vs. Fail by Year')"
      ]
     },
     "execution_count": 28,
     "metadata": {},
     "output_type": "execute_result"
    },
    {
     "data": {
      "image/png": "[encoded data removed]",
      "text/plain": [
       "<Figure size 432x288 with 1 Axes>"
      ]
     },
     "metadata": {
      "needs_background": "light"
     },
     "output_type": "display_data"
    }
   ],
   "source": [
    "marvel_csv = pd.read_csv(\"Marvel_Bechdel - Marvel.csv\")\n",
    "marvel_csv.columns = ['film_name', 'binary', 'dom_gross', 'int_gross', 'budget','year']\n",
    "marvel_pass = marvel_csv.loc[marvel_csv['binary'] == \"PASS\"].groupby('year').film_name.nunique()\n",
    "marvel_fail = marvel_csv.loc[marvel_csv['binary'] == \"FAIL\"].groupby('year').film_name.nunique()\n",
    "count_by_year = pd.concat([marvel_pass, marvel_fail], axis = 1, sort = False)\n",
    "count_by_year = count_by_year.fillna(value = 0)\n",
    "count_by_year.columns = ['pass','fail']\n",
    "count_by_year = count_by_year.assign(PASS = lambda x : x['pass']/(x['pass']+x['fail']))\n",
    "count_by_year = count_by_year.assign(FAIL = lambda x : x['fail']/(x['pass']+x['fail']))\n",
    "count_by_year = count_by_year.drop(columns = ['pass','fail'])\n",
    "count_by_year[['PASS', 'FAIL']].plot(kind = 'bar', stacked = True, position = 0, color = ('orange', 'blue'))\n",
    "plt.title('Pass vs. Fail by Year')"
   ]
  },
  {
   "cell_type": "markdown",
   "metadata": {},
   "source": [
    "Overall, Marvel has had a pass rate of 51%. Before 2017, the pass rate of films was a solid 50%, which rose to 55% post-#MeToo movement. It’s interesting to note that 2016 did not have a single movie that passed the test, but after the #MeToo movement was in full swing, the proportion of movies that passed the test increased consistently."
   ]
  },
  {
   "cell_type": "code",
   "execution_count": 29,
   "metadata": {},
   "outputs": [
    {
     "data": {
      "text/html": [
       "<div>\n",
       "<style scoped>\n",
       "    .dataframe tbody tr th:only-of-type {\n",
       "        vertical-align: middle;\n",
       "    }\n",
       "\n",
       "    .dataframe tbody tr th {\n",
       "        vertical-align: top;\n",
       "    }\n",
       "\n",
       "    .dataframe thead th {\n",
       "        text-align: right;\n",
       "    }\n",
       "</style>\n",
       "<table border=\"1\" class=\"dataframe\">\n",
       "  <thead>\n",
       "    <tr style=\"text-align: right;\">\n",
       "      <th></th>\n",
       "      <th>PASS</th>\n",
       "      <th>FAIL</th>\n",
       "    </tr>\n",
       "    <tr>\n",
       "      <th>year</th>\n",
       "      <th></th>\n",
       "      <th></th>\n",
       "    </tr>\n",
       "  </thead>\n",
       "  <tbody>\n",
       "    <tr>\n",
       "      <th>2008</th>\n",
       "      <td>0.000000</td>\n",
       "      <td>1.000000</td>\n",
       "    </tr>\n",
       "    <tr>\n",
       "      <th>2010</th>\n",
       "      <td>1.000000</td>\n",
       "      <td>0.000000</td>\n",
       "    </tr>\n",
       "    <tr>\n",
       "      <th>2011</th>\n",
       "      <td>0.500000</td>\n",
       "      <td>0.500000</td>\n",
       "    </tr>\n",
       "    <tr>\n",
       "      <th>2012</th>\n",
       "      <td>0.000000</td>\n",
       "      <td>1.000000</td>\n",
       "    </tr>\n",
       "    <tr>\n",
       "      <th>2013</th>\n",
       "      <td>1.000000</td>\n",
       "      <td>0.000000</td>\n",
       "    </tr>\n",
       "    <tr>\n",
       "      <th>2014</th>\n",
       "      <td>1.000000</td>\n",
       "      <td>0.000000</td>\n",
       "    </tr>\n",
       "    <tr>\n",
       "      <th>2015</th>\n",
       "      <td>0.500000</td>\n",
       "      <td>0.500000</td>\n",
       "    </tr>\n",
       "    <tr>\n",
       "      <th>2016</th>\n",
       "      <td>0.000000</td>\n",
       "      <td>1.000000</td>\n",
       "    </tr>\n",
       "    <tr>\n",
       "      <th>2017</th>\n",
       "      <td>0.333333</td>\n",
       "      <td>0.666667</td>\n",
       "    </tr>\n",
       "    <tr>\n",
       "      <th>2018</th>\n",
       "      <td>0.666667</td>\n",
       "      <td>0.333333</td>\n",
       "    </tr>\n",
       "    <tr>\n",
       "      <th>2019</th>\n",
       "      <td>0.666667</td>\n",
       "      <td>0.333333</td>\n",
       "    </tr>\n",
       "  </tbody>\n",
       "</table>\n",
       "</div>"
      ],
      "text/plain": [
       "          PASS      FAIL\n",
       "year                    \n",
       "2008  0.000000  1.000000\n",
       "2010  1.000000  0.000000\n",
       "2011  0.500000  0.500000\n",
       "2012  0.000000  1.000000\n",
       "2013  1.000000  0.000000\n",
       "2014  1.000000  0.000000\n",
       "2015  0.500000  0.500000\n",
       "2016  0.000000  1.000000\n",
       "2017  0.333333  0.666667\n",
       "2018  0.666667  0.333333\n",
       "2019  0.666667  0.333333"
      ]
     },
     "execution_count": 29,
     "metadata": {},
     "output_type": "execute_result"
    }
   ],
   "source": [
    "count_by_year"
   ]
  },
  {
   "cell_type": "markdown",
   "metadata": {},
   "source": [
    "## Budget¶\n",
    "On average, Marvel has spent about 203 million dollars per film passing the test, while spending about 187 million per film that fails the test."
   ]
  },
  {
   "cell_type": "code",
   "execution_count": 30,
   "metadata": {},
   "outputs": [
    {
     "data": {
      "text/plain": [
       "Text(0.5, 1.0, 'Budget by Year')"
      ]
     },
     "execution_count": 30,
     "metadata": {},
     "output_type": "execute_result"
    },
    {
     "data": {
      "image/png": "[encoded data removed]",
      "text/plain": [
       "<Figure size 432x288 with 1 Axes>"
      ]
     },
     "metadata": {
      "needs_background": "light"
     },
     "output_type": "display_data"
    }
   ],
   "source": [
    "marvel_csv.groupby(['year', 'binary']).budget.sum()\n",
    "df = pd.DataFrame(marvel_csv.groupby(['year', 'binary']).budget.sum())\n",
    "df2 = df.unstack().fillna(value = 0)\n",
    "df2.plot(kind = 'bar')\n",
    "plt.title(\"Budget by Year\")"
   ]
  },
  {
   "cell_type": "code",
   "execution_count": 32,
   "metadata": {},
   "outputs": [
    {
     "data": {
      "text/html": [
       "<div>\n",
       "<style scoped>\n",
       "    .dataframe tbody tr th:only-of-type {\n",
       "        vertical-align: middle;\n",
       "    }\n",
       "\n",
       "    .dataframe tbody tr th {\n",
       "        vertical-align: top;\n",
       "    }\n",
       "\n",
       "    .dataframe thead th {\n",
       "        text-align: right;\n",
       "    }\n",
       "</style>\n",
       "<table border=\"1\" class=\"dataframe\">\n",
       "  <thead>\n",
       "    <tr style=\"text-align: right;\">\n",
       "      <th></th>\n",
       "      <th>budget</th>\n",
       "    </tr>\n",
       "    <tr>\n",
       "      <th>binary</th>\n",
       "      <th></th>\n",
       "    </tr>\n",
       "  </thead>\n",
       "  <tbody>\n",
       "    <tr>\n",
       "      <th>FAIL</th>\n",
       "      <td>187750000</td>\n",
       "    </tr>\n",
       "    <tr>\n",
       "      <th>PASS</th>\n",
       "      <td>203800000</td>\n",
       "    </tr>\n",
       "  </tbody>\n",
       "</table>\n",
       "</div>"
      ],
      "text/plain": [
       "           budget\n",
       "binary           \n",
       "FAIL    187750000\n",
       "PASS    203800000"
      ]
     },
     "execution_count": 32,
     "metadata": {},
     "output_type": "execute_result"
    }
   ],
   "source": [
    "marvel_pass = marvel_csv[marvel_csv['binary'] == \"PASS\"]\n",
    "marvel_fail = marvel_csv[marvel_csv['binary'] == \"FAIL\"]\n",
    "marvel_csv[['binary', 'budget']].groupby(['binary']).mean()"
   ]
  },
  {
   "cell_type": "markdown",
   "metadata": {},
   "source": [
    "## Return\n",
    "The average return value for Marvel movies that pass is about 861 million dollars, while the average for those that fail falls short of those that pass, with an average return of about 753 million."
   ]
  },
  {
   "cell_type": "code",
   "execution_count": 34,
   "metadata": {},
   "outputs": [
    {
     "data": {
      "text/plain": [
       "Text(0.5, 1.0, 'Return by Year')"
      ]
     },
     "execution_count": 34,
     "metadata": {},
     "output_type": "execute_result"
    },
    {
     "data": {
      "image/png": "[encoded data removed]",
      "text/plain": [
       "<Figure size 432x288 with 1 Axes>"
      ]
     },
     "metadata": {
      "needs_background": "light"
     },
     "output_type": "display_data"
    }
   ],
   "source": [
    "marvel_csv = marvel_csv.assign(RETURN = lambda x: x.int_gross + x.dom_gross - x.budget)\n",
    "marvel_pass_return = marvel_csv.loc[marvel_csv['binary'] == \"PASS\"]\n",
    "marvel_fail_return = marvel_csv.loc[marvel_csv['binary'] == \"FAIL\"]\n",
    "marvel_csv.groupby(['year', 'binary']).RETURN.sum()\n",
    "df = pd.DataFrame(marvel_csv.groupby(['year', 'binary']).RETURN.sum())\n",
    "df2 = df.unstack().fillna(value = 0)\n",
    "df2.plot(kind = 'bar')\n",
    "plt.title(\"Return by Year\")"
   ]
  },
  {
   "cell_type": "code",
   "execution_count": 47,
   "metadata": {},
   "outputs": [
    {
     "data": {
      "text/html": [
       "<div>\n",
       "<style scoped>\n",
       "    .dataframe tbody tr th:only-of-type {\n",
       "        vertical-align: middle;\n",
       "    }\n",
       "\n",
       "    .dataframe tbody tr th {\n",
       "        vertical-align: top;\n",
       "    }\n",
       "\n",
       "    .dataframe thead th {\n",
       "        text-align: right;\n",
       "    }\n",
       "</style>\n",
       "<table border=\"1\" class=\"dataframe\">\n",
       "  <thead>\n",
       "    <tr style=\"text-align: right;\">\n",
       "      <th></th>\n",
       "      <th>RETURN</th>\n",
       "    </tr>\n",
       "    <tr>\n",
       "      <th>binary</th>\n",
       "      <th></th>\n",
       "    </tr>\n",
       "  </thead>\n",
       "  <tbody>\n",
       "    <tr>\n",
       "      <th>FAIL</th>\n",
       "      <td>7.533516e+08</td>\n",
       "    </tr>\n",
       "    <tr>\n",
       "      <th>PASS</th>\n",
       "      <td>8.610384e+08</td>\n",
       "    </tr>\n",
       "  </tbody>\n",
       "</table>\n",
       "</div>"
      ],
      "text/plain": [
       "              RETURN\n",
       "binary              \n",
       "FAIL    7.533516e+08\n",
       "PASS    8.610384e+08"
      ]
     },
     "execution_count": 47,
     "metadata": {},
     "output_type": "execute_result"
    }
   ],
   "source": [
    "marvel_csv[['binary', 'RETURN']].groupby(['binary']).mean()"
   ]
  },
  {
   "cell_type": "markdown",
   "metadata": {},
   "source": [
    "# Data Modeling"
   ]
  },
  {
   "cell_type": "markdown",
   "metadata": {},
   "source": [
    "## Proportion Trend Over Time\n",
    "We wanted to compare the trend of proportions of moves that pass versus movies that failed over time. We ran a linear regression for pass rate vs. year and fail rate vs. year. We found an increasing trend over time for proportion of passing films, and a negative trend for proportion of films that fail."
   ]
  },
  {
   "cell_type": "code",
   "execution_count": 45,
   "metadata": {},
   "outputs": [
    {
     "data": {
      "image/png": "[encoded data removed]",
      "text/plain": [
       "<Figure size 432x288 with 1 Axes>"
      ]
     },
     "metadata": {
      "needs_background": "light"
     },
     "output_type": "display_data"
    }
   ],
   "source": [
    "modeldata = pd.read_csv(\"bechdel.csv\", index_col = 0)\n",
    "modeldata.head\n",
    "df = pd.DataFrame(modeldata[['year', 'binary']].groupby('year').binary.value_counts().unstack().fillna(0))\n",
    "total_year = pd.DataFrame(modeldata.year.value_counts())\n",
    "df[['total']] = total_year\n",
    "PASS = df.iloc[:,1]/df.iloc[:,2]\n",
    "FAIL = df.iloc[:,0]/df.iloc[:,2]\n",
    "FAIL = np.array(FAIL)\n",
    "PASS = np.array(PASS)\n",
    "year = np.array(df.index).reshape((-1, 1))\n",
    "m1 = LinearRegression().fit(year, PASS)\n",
    "m2 = LinearRegression().fit(year, FAIL)\n",
    "P_pred = m1.predict(year)\n",
    "F_pred = m2.predict(year)\n",
    "plt.scatter(year,FAIL)\n",
    "plt.scatter(year,PASS)\n",
    "plt.plot(year,F_pred, label = 'FAIL')\n",
    "plt.plot(year,P_pred, label = 'PASS')\n",
    "plt.title('Proportion Over Time')\n",
    "plt.legend(loc = 'upper right')\n",
    "plt.xlabel('Year')\n",
    "plt.ylabel('Proportion')\n",
    "passprop = m1.predict(np.array(2019).reshape(1,-1))\n",
    "failprop = m2.predict(np.array(2019).reshape(1,-1))"
   ]
  },
  {
   "cell_type": "markdown",
   "metadata": {},
   "source": [
    "## Checking Assumptions\n",
    "There are some holes in our model. We see that for proportions of pass and fail, the normal Q-Q plots show slight tails at each end, so we cannot assume they follow a normal distribution."
   ]
  },
  {
   "cell_type": "code",
   "execution_count": 48,
   "metadata": {},
   "outputs": [
    {
     "data": {
      "image/png": "[encoded data removed]",
      "text/plain": [
       "<Figure size 432x288 with 1 Axes>"
      ]
     },
     "metadata": {
      "needs_background": "light"
     },
     "output_type": "display_data"
    }
   ],
   "source": [
    "import scipy.stats as stats\n",
    "stats.probplot(PASS, dist=\"norm\", plot=plt)\n",
    "plt.show()"
   ]
  },
  {
   "cell_type": "code",
   "execution_count": 49,
   "metadata": {},
   "outputs": [
    {
     "data": {
      "image/png": "[encoded data removed]",
      "text/plain": [
       "<Figure size 432x288 with 1 Axes>"
      ]
     },
     "metadata": {
      "needs_background": "light"
     },
     "output_type": "display_data"
    }
   ],
   "source": [
    "stats.probplot(FAIL, dist=\"norm\", plot=plt)\n",
    "plt.show()"
   ]
  },
  {
   "cell_type": "markdown",
   "metadata": {},
   "source": [
    "We initially sought out to produce a model that would predict return trend over time, but due to the nature of our data, the linear model would not be an approriate fit for our data."
   ]
  },
  {
   "cell_type": "code",
   "execution_count": 36,
   "metadata": {},
   "outputs": [
    {
     "data": {
      "text/plain": [
       "Text(0.5, 1.0, 'Return Trend Over Time')"
      ]
     },
     "execution_count": 36,
     "metadata": {},
     "output_type": "execute_result"
    },
    {
     "data": {
      "image/png": "[encoded data removed]",
      "text/plain": [
       "<Figure size 432x288 with 1 Axes>"
      ]
     },
     "metadata": {
      "needs_background": "light"
     },
     "output_type": "display_data"
    }
   ],
   "source": [
    "total_narm = total.dropna(how = 'any')\n",
    "bech_pass = total_narm[total_narm['binary'] == \"PASS\"]\n",
    "bech_fail = total_narm[total_narm['binary'] == \"FAIL\"]\n",
    "pass_x = bech_pass.year.values.reshape(-1, 1)  # values converts it into a numpy array\n",
    "pass_y = bech_pass['return'].values.reshape(-1, 1)  # -1 means that calculate the dimension of rows, but have 1 column\n",
    "fail_x = bech_fail.year.values.reshape(-1, 1)  # values converts it into a numpy array\n",
    "fail_y = bech_fail['return'].values.reshape(-1, 1) \n",
    "linear_regressor = LinearRegression()  # create object for the class\n",
    "linear_regressor.fit(pass_x, pass_y)  # perform linear regression\n",
    "pass_y_pred = linear_regressor.predict(pass_x)  # make predictions\n",
    "linear_regressor.fit(fail_x, fail_y)\n",
    "fail_y_pred = linear_regressor.predict(fail_x)\n",
    "plt.scatter(pass_x, pass_y, color = \"orange\")\n",
    "plt.scatter(fail_x, fail_y, color = \"blue\")\n",
    "plt.plot(pass_x, pass_y_pred, color='orange', label = \"PASS\")\n",
    "plt.plot(fail_x, fail_y_pred, color=\"blue\", label = \"FAIL\")\n",
    "plt.legend()\n",
    "plt.title(\"Return Trend Over Time\")"
   ]
  },
  {
   "cell_type": "markdown",
   "metadata": {},
   "source": [
    "However, our Marvel data set proved to be a good subset of the data to perform a linear regression to examine trends in values for pass vs. fail. "
   ]
  },
  {
   "cell_type": "code",
   "execution_count": 37,
   "metadata": {
    "scrolled": true
   },
   "outputs": [
    {
     "data": {
      "text/plain": [
       "Text(0.5, 1.0, 'Return Trend Over Time')"
      ]
     },
     "execution_count": 37,
     "metadata": {},
     "output_type": "execute_result"
    },
    {
     "data": {
      "image/png": "[encoded data removed]",
      "text/plain": [
       "<Figure size 432x288 with 1 Axes>"
      ]
     },
     "metadata": {
      "needs_background": "light"
     },
     "output_type": "display_data"
    }
   ],
   "source": [
    "pass_x = marvel_pass_return.year.values.reshape(-1, 1)  # values converts it into a numpy array\n",
    "pass_y = marvel_pass_return.RETURN.values.reshape(-1, 1)  # -1 means that calculate the dimension of rows, but have 1 column\n",
    "fail_x = marvel_fail_return.year.values.reshape(-1, 1)\n",
    "fail_y = marvel_fail_return.RETURN.values.reshape(-1, 1)\n",
    "linear_regressor = LinearRegression()  # create object for the class\n",
    "linear_regressor.fit(pass_x, pass_y)  # perform linear regression\n",
    "pass_y_pred = linear_regressor.predict(pass_x)  # make predictions\n",
    "linear_regressor.fit(fail_x, fail_y)\n",
    "fail_y_pred = linear_regressor.predict(fail_x)\n",
    "plt.scatter(pass_x, pass_y, color = \"orange\")\n",
    "plt.scatter(fail_x, fail_y, color = \"blue\")\n",
    "plt.plot(pass_x, pass_y_pred, color='orange', label = \"PASS\")\n",
    "plt.plot(fail_x, fail_y_pred, color=\"blue\", label = \"FAIL\")\n",
    "plt.legend()\n",
    "plt.title(\"Return Trend Over Time\")"
   ]
  },
  {
   "cell_type": "markdown",
   "metadata": {},
   "source": [
    "When comparing trends for passing return value versus fail return values, we see a greater trend for pass movies versus fail."
   ]
  },
  {
   "cell_type": "code",
   "execution_count": 38,
   "metadata": {},
   "outputs": [
    {
     "data": {
      "text/plain": [
       "Text(0.5, 1.0, 'Budget Trend Over Time')"
      ]
     },
     "execution_count": 38,
     "metadata": {},
     "output_type": "execute_result"
    },
    {
     "data": {
      "image/png": "[encoded data removed]",
      "text/plain": [
       "<Figure size 432x288 with 1 Axes>"
      ]
     },
     "metadata": {
      "needs_background": "light"
     },
     "output_type": "display_data"
    }
   ],
   "source": [
    "pass_x = marvel_pass.year.values.reshape(-1, 1)  # values converts it into a numpy array\n",
    "pass_y = marvel_pass.budget.values.reshape(-1, 1)  # -1 means that calculate the dimension of rows, but have 1 column\n",
    "fail_x = marvel_fail.year.values.reshape(-1, 1)\n",
    "fail_y = marvel_fail.budget.values.reshape(-1, 1)\n",
    "linear_regressor = LinearRegression()  # create object for the class\n",
    "linear_regressor.fit(pass_x, pass_y)  # perform linear regression\n",
    "pass_y_pred = linear_regressor.predict(pass_x)  # make predictions\n",
    "linear_regressor.fit(fail_x, fail_y)\n",
    "fail_y_pred = linear_regressor.predict(fail_x)\n",
    "plt.scatter(pass_x, pass_y, color = \"orange\")\n",
    "plt.scatter(fail_x, fail_y, color = \"blue\")\n",
    "plt.plot(pass_x, pass_y_pred, color='orange', label = \"PASS\")\n",
    "plt.plot(fail_x, fail_y_pred, color=\"blue\", label = \"FAIL\")\n",
    "plt.legend()\n",
    "plt.title(\"Budget Trend Over Time\")"
   ]
  },
  {
   "cell_type": "markdown",
   "metadata": {},
   "source": [
    "When comparing trends for passing return value versus fail return values, we also see a greater trend for pass movies versus fail."
   ]
  },
  {
   "cell_type": "markdown",
   "metadata": {},
   "source": [
    "## Checking Assumptions\n",
    "However, we must note that the sample size of the Marvel dataset is small. We also note that with the growing trend of Marvel movies, the graph seems to be exponential rather than linear, although the normal Q-Q plot for both graphs do not stray too far from the line. We chose the linear model to display the increasing trend of budget and return over time, but an exponential model may be more appropriate."
   ]
  },
  {
   "cell_type": "code",
   "execution_count": 139,
   "metadata": {},
   "outputs": [
    {
     "data": {
      "image/png": "[encoded data removed]",
      "text/plain": [
       "<Figure size 432x288 with 1 Axes>"
      ]
     },
     "metadata": {
      "needs_background": "light"
     },
     "output_type": "display_data"
    }
   ],
   "source": [
    "stats.probplot(np.array(marvel_pass.year.values), dist=\"norm\", plot=plt)\n",
    "plt.show()"
   ]
  },
  {
   "cell_type": "code",
   "execution_count": 140,
   "metadata": {},
   "outputs": [
    {
     "data": {
      "image/png": "[encoded data removed]",
      "text/plain": [
       "<Figure size 432x288 with 1 Axes>"
      ]
     },
     "metadata": {
      "needs_background": "light"
     },
     "output_type": "display_data"
    }
   ],
   "source": [
    "stats.probplot(np.array(marvel_fail.year.values), dist=\"norm\", plot=plt)\n",
    "plt.show()"
   ]
  },
  {
   "cell_type": "markdown",
   "metadata": {},
   "source": [
    "# Conclusion\n",
    "Based on our findings, the data shows an improvement on representation of women in film after The Dollars-and-Cents case in 2013. The amount of films passing the bechdel test continue to increase. Gross earnings, budget, and return values for films passing the test now surpass that of films that fail the test. This could indicate that Hollywood and its audiences are spending more on films with more female representation. "
   ]
  }
 ],
 "metadata": {
  "kernelspec": {
   "display_name": "Python 3",
   "language": "python",
   "name": "python3"
  },
  "language_info": {
   "codemirror_mode": {
    "name": "ipython",
    "version": 3
   },
   "file_extension": ".py",
   "mimetype": "text/x-python",
   "name": "python",
   "nbconvert_exporter": "python",
   "pygments_lexer": "ipython3",
   "version": "3.7.3"
  }
 },
 "nbformat": 4,
 "nbformat_minor": 2
}
