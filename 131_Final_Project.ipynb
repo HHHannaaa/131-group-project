{
 "cells": [
  {
   "cell_type": "markdown",
   "metadata": {},
   "source": [
    "# Background Information\n",
    "This project seeks to gain insight on the representation of women in film over time. With the increase in popularity of female rights and representation in film recently, notably the “#MeToo” movement beginning in 2016, this project seeks to examine changes in patterns among movie audiences and creators, specifically before after the rise of “#MeToo”.  \t\n",
    "This project was inspired by “The Dollar-And-Cents Case Against Hollywood’s Exclusion of Women” written by Walt Hickey, which examines 1,615 films released between 1990 and 2013 and “examines the relationship between the prominence of women in a film and that film’s budget and gross profits” (Hickey). The article uses the “Bechdel Test” to judge the gender equity of the film. The film “passes” the test if it fulfills 3 conditions: the movie stars at least two women, these two women must talk to each other and the conversation must be about something other than a man.\n",
    "We will be extending the findings of this article to the years after 2013 to today’s releases, finding if the #MeToo movement has indeed made an impact of gender equity in film.\n",
    "\n",
    "# The Data\n",
    "The data used in this project comes from two sources: BechdelTest.com and The-Numbers.com BechdelTest.com is an online forum operated by moviegoers who analyze whether or not movies entered pass the Bechdel Test. The site contains about 5000 films dating from the 1880s to newly released films, we selected movies from 2013, 2016, and 2019. To locate financial information on these films, we used The-Numbers.com - a leading website that contains box office and budget information for films.\n",
    "The variables used in this data set include the film title, the year it was released, a binary value of “pass/fail” indicating whether or not the film passed the test, the film’s budget, domestic gross, and international gross. Domestic gross is the earnings for the film in the United States and Canada, international gross is the earnings for the film in all other countries. We added variables for budget, domestic gross and international gross to adjust for inflation in 2019. The inflation rates were obtained from www.usinflationcalculator.com/. We also added a variable for return value, which adds domestic and international gross profit, subtracting budget. The data set of movies from 2013 was created by the writer of the Dollars-And-Cents article, while the data from 2016 and 2019 were collected by the team members of this project. Note that the films included in the data set were only movies that were on both BechdelTest.com and The-Numbers.com. "
   ]
  },
  {
   "cell_type": "markdown",
   "metadata": {},
   "source": [
    "# Exploratory Analysis"
   ]
  },
  {
   "cell_type": "code",
   "execution_count": 16,
   "metadata": {},
   "outputs": [],
   "source": [
    "import pandas as pd\n",
    "import numpy as np\n",
    "import matplotlib.pyplot as plt\n",
    "from sklearn.linear_model import LinearRegression\n",
    "from sklearn import svm\n",
    "import seaborn as sns"
   ]
  },
  {
   "cell_type": "code",
   "execution_count": 17,
   "metadata": {},
   "outputs": [],
   "source": [
    "#2013 Data Cleaning\n",
    "bechdel2013 = pd.read_csv(\"bechdel.csv\", index_col = 0)\n",
    "bechdel2013 = bechdel2013.drop(['imdb', 'test', 'clean_test', 'code', \n",
    "                'period_code', 'decade_code'], axis=1) # drop the unused columns\n",
    "nullobject = pd.isnull(bechdel2013)\n",
    "nullobject_i = np.where(nullobject)\n",
    "bechdel2013.iloc[nullobject_i] = 0 \n",
    "bechdel2013['budget_2019'] = 1.1 * bechdel2013.budget_2013 \n",
    "bechdel2013['domgross_2019'] = 1.1 * bechdel2013.domgross_2013\n",
    "bechdel2013['intgross_2019'] = 1.1 * bechdel2013.intgross_2013\n",
    "bechdel2013['return'] = bechdel2013.intgross_2019 + bechdel2013.domgross_2019 - bechdel2013.budget_2019\n",
    "bechdel2013 = bechdel2013[bechdel2013.year == 2013]\n",
    "bechdel2013 = bechdel2013.drop(['budget', 'domgross', 'intgross', 'budget_2013', 'domgross_2013', 'intgross_2013'], axis=1) # drop the unused columns\n",
    "bechdel2013 = bechdel2013.set_index('title')\n",
    "return2013 = pd.DataFrame(bechdel2013.loc[:,['binary', 'return']])\n",
    "return2013 = return2013.groupby(['binary']).sum()\n",
    "bechdel = pd.read_csv(\"2019 bechdel.csv\", index_col = 0, dtype = {'domgross':np.float64, 'year':np.int32})\n",
    "sep = bechdel[['domgross', 'intgross', 'budget']]\n",
    "ind = sep.dropna(how = 'all').index\n",
    "bechdel = bechdel.loc[ind,]\n",
    "bechdel2019 = bechdel[bechdel.year == 2019]\n",
    "bechdel2016 = bechdel[bechdel.year == 2016]\n"
   ]
  },
  {
   "cell_type": "code",
   "execution_count": 18,
   "metadata": {},
   "outputs": [],
   "source": [
    "#2016 Data\n",
    "bechdel2016.loc[:,'budget_2019'] = 1.07 * bechdel2016.loc[:,'budget']\n",
    "bechdel2016.loc[:,'domgross_2019'] = 1.07 * bechdel2016.domgross\n",
    "bechdel2016.loc[:,'intgross_2019'] = 1.07 * bechdel2016.loc[:,'intgross']\n",
    "bechdel2016.loc[:,'return'] = bechdel2016.loc[:,'intgross_2019'] + bechdel2016.loc[:,'domgross_2019'] - bechdel2016.loc[:,'budget_2019']\n",
    "bechdel2016 = bechdel2016.drop(['domgross', 'intgross', 'budget'], axis = 1)"
   ]
  },
  {
   "cell_type": "code",
   "execution_count": 19,
   "metadata": {},
   "outputs": [
    {
     "name": "stderr",
     "output_type": "stream",
     "text": [
      "/Users/rachelrusch/anaconda3/lib/python3.7/site-packages/ipykernel_launcher.py:5: SettingWithCopyWarning: \n",
      "A value is trying to be set on a copy of a slice from a DataFrame.\n",
      "Try using .loc[row_indexer,col_indexer] = value instead\n",
      "\n",
      "See the caveats in the documentation: http://pandas.pydata.org/pandas-docs/stable/indexing.html#indexing-view-versus-copy\n",
      "  \"\"\"\n"
     ]
    }
   ],
   "source": [
    "#2019 Data\n",
    "bechdel2019.loc[:,'budget_2019'] = bechdel2019.budget\n",
    "bechdel2019.loc[:,'domgross_2019'] = bechdel2019.domgross\n",
    "bechdel2019.loc[:,'intgross_2019'] = bechdel2019.intgross\n",
    "bechdel2019['return'] = bechdel2019.intgross_2019 + bechdel2019.domgross_2019 - bechdel2019.budget_2019\n",
    "bechdel2019 = bechdel2019.drop(['domgross', 'intgross', 'budget'], axis = 1)\n",
    "total = pd.concat([bechdel2013, bechdel2016, bechdel2019], sort = False)\n",
    "total['gross'] = total.intgross_2019 + total.domgross_2019"
   ]
  },
  {
   "cell_type": "markdown",
   "metadata": {},
   "source": [
    "## Average Gross Earnings\n",
    "After 2013, the data shows a higher increase in gross earnings for movies that pass the test versus movies that fail the test. "
   ]
  },
  {
   "cell_type": "code",
   "execution_count": 22,
   "metadata": {},
   "outputs": [
    {
     "data": {
      "text/html": [
       "<div>\n",
       "<style scoped>\n",
       "    .dataframe tbody tr th:only-of-type {\n",
       "        vertical-align: middle;\n",
       "    }\n",
       "\n",
       "    .dataframe tbody tr th {\n",
       "        vertical-align: top;\n",
       "    }\n",
       "\n",
       "    .dataframe thead tr th {\n",
       "        text-align: left;\n",
       "    }\n",
       "\n",
       "    .dataframe thead tr:last-of-type th {\n",
       "        text-align: right;\n",
       "    }\n",
       "</style>\n",
       "<table border=\"1\" class=\"dataframe\">\n",
       "  <thead>\n",
       "    <tr>\n",
       "      <th></th>\n",
       "      <th colspan=\"2\" halign=\"left\">gross</th>\n",
       "    </tr>\n",
       "    <tr>\n",
       "      <th>binary</th>\n",
       "      <th>FAIL</th>\n",
       "      <th>PASS</th>\n",
       "    </tr>\n",
       "    <tr>\n",
       "      <th>year</th>\n",
       "      <th></th>\n",
       "      <th></th>\n",
       "    </tr>\n",
       "  </thead>\n",
       "  <tbody>\n",
       "    <tr>\n",
       "      <th>2013</th>\n",
       "      <td>3.452977e+08</td>\n",
       "      <td>3.371010e+08</td>\n",
       "    </tr>\n",
       "    <tr>\n",
       "      <th>2016</th>\n",
       "      <td>1.144391e+08</td>\n",
       "      <td>1.318532e+08</td>\n",
       "    </tr>\n",
       "    <tr>\n",
       "      <th>2019</th>\n",
       "      <td>1.981420e+08</td>\n",
       "      <td>4.116373e+08</td>\n",
       "    </tr>\n",
       "  </tbody>\n",
       "</table>\n",
       "</div>"
      ],
      "text/plain": [
       "               gross              \n",
       "binary          FAIL          PASS\n",
       "year                              \n",
       "2013    3.452977e+08  3.371010e+08\n",
       "2016    1.144391e+08  1.318532e+08\n",
       "2019    1.981420e+08  4.116373e+08"
      ]
     },
     "execution_count": 22,
     "metadata": {},
     "output_type": "execute_result"
    }
   ],
   "source": [
    "a = total[['year', 'binary', 'gross']].groupby(['year','binary']).mean().unstack()\n",
    "a"
   ]
  },
  {
   "cell_type": "code",
   "execution_count": 31,
   "metadata": {},
   "outputs": [
    {
     "data": {
      "text/plain": [
       "Text(0.5, 1.0, 'Gross Earnings Over Time')"
      ]
     },
     "execution_count": 31,
     "metadata": {},
     "output_type": "execute_result"
    },
    {
     "data": {
      "image/png": "[encoded data removed]",
      "text/plain": [
       "<Figure size 432x288 with 1 Axes>"
      ]
     },
     "metadata": {
      "needs_background": "light"
     },
     "output_type": "display_data"
    }
   ],
   "source": [
    "a.plot(kind = 'bar')\n",
    "plt.legend(['Fail', 'Pass'], loc='upper center')\n",
    "plt.ylabel('gross')\n",
    "plt.title('Gross Earnings Over Time')"
   ]
  },
  {
   "cell_type": "markdown",
   "metadata": {},
   "source": [
    "In 2013, the average gross earnings for movies that passed the test fell short of those that failed by about 8 million dollars. In 2016, the average gross earnings for movies that passed the test surpassed the earnings of those that failed by 10 million dollars. In 2019, gross earnings for movies that passed surpassed movies that failed by 200 million dollars. This may indicate that audiences are now more willing to pay more for movies that pass the test."
   ]
  },
  {
   "cell_type": "markdown",
   "metadata": {},
   "source": [
    "## Marvel Movie Franchise\n",
    "While we know that the pass vs. fail rate of movies passing the Bechdel test are increasing over time, we wanted to ask if movies that were truly leading the movie industry of the time are following the same trend of gender equality. And what better depiction of a leader in the movie industry as the Marvel Cinematic Universe (MCU), the highest-grossing movie franchise of all time (Mentalfloss.com). The Marvel franchise has released 23 movies, releasing 11 movies just in 2016-2019 alone. We performed the same calculations above on the 22 released movies in the Marvel Cinematic Universe.\n",
    "For this data, we created a data set of all 21 Marvel Movies in the franchise, released between 2008 and 2019."
   ]
  },
  {
   "cell_type": "code",
   "execution_count": 28,
   "metadata": {},
   "outputs": [
    {
     "data": {
      "text/html": [
       "<div>\n",
       "<style scoped>\n",
       "    .dataframe tbody tr th:only-of-type {\n",
       "        vertical-align: middle;\n",
       "    }\n",
       "\n",
       "    .dataframe tbody tr th {\n",
       "        vertical-align: top;\n",
       "    }\n",
       "\n",
       "    .dataframe thead th {\n",
       "        text-align: right;\n",
       "    }\n",
       "</style>\n",
       "<table border=\"1\" class=\"dataframe\">\n",
       "  <thead>\n",
       "    <tr style=\"text-align: right;\">\n",
       "      <th></th>\n",
       "      <th>film_name</th>\n",
       "      <th>binary</th>\n",
       "      <th>dom_gross</th>\n",
       "      <th>int_gross</th>\n",
       "      <th>budget</th>\n",
       "      <th>year</th>\n",
       "    </tr>\n",
       "  </thead>\n",
       "  <tbody>\n",
       "    <tr>\n",
       "      <th>0</th>\n",
       "      <td>The Incredible Hulk (2008)</td>\n",
       "      <td>FAIL</td>\n",
       "      <td>134806913</td>\n",
       "      <td>130766946</td>\n",
       "      <td>137500000</td>\n",
       "      <td>2008</td>\n",
       "    </tr>\n",
       "    <tr>\n",
       "      <th>1</th>\n",
       "      <td>Iron Man 2 (2010)</td>\n",
       "      <td>PASS</td>\n",
       "      <td>312433331</td>\n",
       "      <td>308723058</td>\n",
       "      <td>170000000</td>\n",
       "      <td>2010</td>\n",
       "    </tr>\n",
       "    <tr>\n",
       "      <th>2</th>\n",
       "      <td>Thor 2 (2011)</td>\n",
       "      <td>PASS</td>\n",
       "      <td>206362140</td>\n",
       "      <td>438240376</td>\n",
       "      <td>150000000</td>\n",
       "      <td>2011</td>\n",
       "    </tr>\n",
       "    <tr>\n",
       "      <th>3</th>\n",
       "      <td>Captain America: The First Avenger (2011)</td>\n",
       "      <td>FAIL</td>\n",
       "      <td>176654505</td>\n",
       "      <td>193915271</td>\n",
       "      <td>140000000</td>\n",
       "      <td>2011</td>\n",
       "    </tr>\n",
       "    <tr>\n",
       "      <th>4</th>\n",
       "      <td>The Avengers (2012)</td>\n",
       "      <td>FAIL</td>\n",
       "      <td>623279547</td>\n",
       "      <td>894656350</td>\n",
       "      <td>225000000</td>\n",
       "      <td>2012</td>\n",
       "    </tr>\n",
       "    <tr>\n",
       "      <th>5</th>\n",
       "      <td>Iron Man 3 (2013)</td>\n",
       "      <td>PASS</td>\n",
       "      <td>408992272</td>\n",
       "      <td>806400000</td>\n",
       "      <td>200000000</td>\n",
       "      <td>2013</td>\n",
       "    </tr>\n",
       "    <tr>\n",
       "      <th>6</th>\n",
       "      <td>Thor: The Dark World 3 (2013)</td>\n",
       "      <td>PASS</td>\n",
       "      <td>206362140</td>\n",
       "      <td>438240376</td>\n",
       "      <td>150000000</td>\n",
       "      <td>2013</td>\n",
       "    </tr>\n",
       "    <tr>\n",
       "      <th>7</th>\n",
       "      <td>Captain America: The Winter Soldier (2014)</td>\n",
       "      <td>PASS</td>\n",
       "      <td>259746958</td>\n",
       "      <td>454654931</td>\n",
       "      <td>170000000</td>\n",
       "      <td>2014</td>\n",
       "    </tr>\n",
       "    <tr>\n",
       "      <th>8</th>\n",
       "      <td>Guardians of the Galaxy (2014)</td>\n",
       "      <td>PASS</td>\n",
       "      <td>333172112</td>\n",
       "      <td>439600000</td>\n",
       "      <td>170000000</td>\n",
       "      <td>2014</td>\n",
       "    </tr>\n",
       "    <tr>\n",
       "      <th>9</th>\n",
       "      <td>Avengers: Age of Ultron (2015)</td>\n",
       "      <td>PASS</td>\n",
       "      <td>459005868</td>\n",
       "      <td>944008095</td>\n",
       "      <td>330600000</td>\n",
       "      <td>2015</td>\n",
       "    </tr>\n",
       "    <tr>\n",
       "      <th>10</th>\n",
       "      <td>Ant-Man (2015)</td>\n",
       "      <td>FAIL</td>\n",
       "      <td>180202163</td>\n",
       "      <td>338656286</td>\n",
       "      <td>130000000</td>\n",
       "      <td>2015</td>\n",
       "    </tr>\n",
       "    <tr>\n",
       "      <th>11</th>\n",
       "      <td>Captain America: Civil War (2016)</td>\n",
       "      <td>FAIL</td>\n",
       "      <td>408084349</td>\n",
       "      <td>745200000</td>\n",
       "      <td>250000000</td>\n",
       "      <td>2016</td>\n",
       "    </tr>\n",
       "    <tr>\n",
       "      <th>12</th>\n",
       "      <td>Doctor Strange (2016)</td>\n",
       "      <td>FAIL</td>\n",
       "      <td>232641920</td>\n",
       "      <td>443762646</td>\n",
       "      <td>165000000</td>\n",
       "      <td>2016</td>\n",
       "    </tr>\n",
       "    <tr>\n",
       "      <th>13</th>\n",
       "      <td>Guardians of the Galaxy 2 (2017)</td>\n",
       "      <td>PASS</td>\n",
       "      <td>389813101</td>\n",
       "      <td>479300000</td>\n",
       "      <td>200000000</td>\n",
       "      <td>2017</td>\n",
       "    </tr>\n",
       "    <tr>\n",
       "      <th>14</th>\n",
       "      <td>Spider-Man: Homecoming (2017)</td>\n",
       "      <td>FAIL</td>\n",
       "      <td>334201140</td>\n",
       "      <td>545965210</td>\n",
       "      <td>175000000</td>\n",
       "      <td>2017</td>\n",
       "    </tr>\n",
       "    <tr>\n",
       "      <th>15</th>\n",
       "      <td>Thor: Ragnarok (2017)</td>\n",
       "      <td>FAIL</td>\n",
       "      <td>315058289</td>\n",
       "      <td>538900000</td>\n",
       "      <td>180000000</td>\n",
       "      <td>2017</td>\n",
       "    </tr>\n",
       "    <tr>\n",
       "      <th>16</th>\n",
       "      <td>Black Panther (2018)</td>\n",
       "      <td>PASS</td>\n",
       "      <td>700059566</td>\n",
       "      <td>648198658</td>\n",
       "      <td>200000000</td>\n",
       "      <td>2018</td>\n",
       "    </tr>\n",
       "    <tr>\n",
       "      <th>17</th>\n",
       "      <td>Avengers: Infinity War (2018)</td>\n",
       "      <td>FAIL</td>\n",
       "      <td>678815482</td>\n",
       "      <td>1369318718</td>\n",
       "      <td>300000000</td>\n",
       "      <td>2018</td>\n",
       "    </tr>\n",
       "    <tr>\n",
       "      <th>18</th>\n",
       "      <td>Ant-Man and the Wasp (2018)</td>\n",
       "      <td>PASS</td>\n",
       "      <td>216648740</td>\n",
       "      <td>406495920</td>\n",
       "      <td>130000000</td>\n",
       "      <td>2018</td>\n",
       "    </tr>\n",
       "    <tr>\n",
       "      <th>19</th>\n",
       "      <td>Captain Marvel (2019)</td>\n",
       "      <td>PASS</td>\n",
       "      <td>426829839</td>\n",
       "      <td>699300000</td>\n",
       "      <td>175000000</td>\n",
       "      <td>2019</td>\n",
       "    </tr>\n",
       "    <tr>\n",
       "      <th>20</th>\n",
       "      <td>Avengers: Endgame (2019)</td>\n",
       "      <td>PASS</td>\n",
       "      <td>858373000</td>\n",
       "      <td>1937100000</td>\n",
       "      <td>400000000</td>\n",
       "      <td>2019</td>\n",
       "    </tr>\n",
       "    <tr>\n",
       "      <th>21</th>\n",
       "      <td>Spider-Man: Far From Home (2019)</td>\n",
       "      <td>FAIL</td>\n",
       "      <td>426829839</td>\n",
       "      <td>699300000</td>\n",
       "      <td>175000000</td>\n",
       "      <td>2019</td>\n",
       "    </tr>\n",
       "  </tbody>\n",
       "</table>\n",
       "</div>"
      ],
      "text/plain": [
       "                                     film_name binary  dom_gross   int_gross  \\\n",
       "0                   The Incredible Hulk (2008)   FAIL  134806913   130766946   \n",
       "1                            Iron Man 2 (2010)   PASS  312433331   308723058   \n",
       "2                                Thor 2 (2011)   PASS  206362140   438240376   \n",
       "3    Captain America: The First Avenger (2011)   FAIL  176654505   193915271   \n",
       "4                          The Avengers (2012)   FAIL  623279547   894656350   \n",
       "5                            Iron Man 3 (2013)   PASS  408992272   806400000   \n",
       "6                Thor: The Dark World 3 (2013)   PASS  206362140   438240376   \n",
       "7   Captain America: The Winter Soldier (2014)   PASS  259746958   454654931   \n",
       "8               Guardians of the Galaxy (2014)   PASS  333172112   439600000   \n",
       "9               Avengers: Age of Ultron (2015)   PASS  459005868   944008095   \n",
       "10                              Ant-Man (2015)   FAIL  180202163   338656286   \n",
       "11           Captain America: Civil War (2016)   FAIL  408084349   745200000   \n",
       "12                       Doctor Strange (2016)   FAIL  232641920   443762646   \n",
       "13            Guardians of the Galaxy 2 (2017)   PASS  389813101   479300000   \n",
       "14               Spider-Man: Homecoming (2017)   FAIL  334201140   545965210   \n",
       "15                       Thor: Ragnarok (2017)   FAIL  315058289   538900000   \n",
       "16                        Black Panther (2018)   PASS  700059566   648198658   \n",
       "17               Avengers: Infinity War (2018)   FAIL  678815482  1369318718   \n",
       "18                 Ant-Man and the Wasp (2018)   PASS  216648740   406495920   \n",
       "19                       Captain Marvel (2019)   PASS  426829839   699300000   \n",
       "20                    Avengers: Endgame (2019)   PASS  858373000  1937100000   \n",
       "21            Spider-Man: Far From Home (2019)   FAIL  426829839   699300000   \n",
       "\n",
       "       budget  year  \n",
       "0   137500000  2008  \n",
       "1   170000000  2010  \n",
       "2   150000000  2011  \n",
       "3   140000000  2011  \n",
       "4   225000000  2012  \n",
       "5   200000000  2013  \n",
       "6   150000000  2013  \n",
       "7   170000000  2014  \n",
       "8   170000000  2014  \n",
       "9   330600000  2015  \n",
       "10  130000000  2015  \n",
       "11  250000000  2016  \n",
       "12  165000000  2016  \n",
       "13  200000000  2017  \n",
       "14  175000000  2017  \n",
       "15  180000000  2017  \n",
       "16  200000000  2018  \n",
       "17  300000000  2018  \n",
       "18  130000000  2018  \n",
       "19  175000000  2019  \n",
       "20  400000000  2019  \n",
       "21  175000000  2019  "
      ]
     },
     "execution_count": 28,
     "metadata": {},
     "output_type": "execute_result"
    }
   ],
   "source": [
    "marvel_csv"
   ]
  },
  {
   "cell_type": "markdown",
   "metadata": {},
   "source": [
    "## Pass vs. Fail\n",
    "Overall, Marvel has had a pass rate of 51%. Before 2017, the pass rate of films was a solid 50%, which rose to 55% post-#MeToo movement. It’s interesting to note that 2016 did not have a single movie that passed the test, but after the #MeToo movement was in full swing, the proportion of movies that passed the test increased consistently."
   ]
  },
  {
   "cell_type": "code",
   "execution_count": 25,
   "metadata": {},
   "outputs": [
    {
     "data": {
      "text/plain": [
       "Text(0.5, 1.0, 'Pass vs. Fail by Year')"
      ]
     },
     "execution_count": 25,
     "metadata": {},
     "output_type": "execute_result"
    },
    {
     "data": {
      "image/png": "[encoded data removed]",
      "text/plain": [
       "<Figure size 432x288 with 1 Axes>"
      ]
     },
     "metadata": {
      "needs_background": "light"
     },
     "output_type": "display_data"
    }
   ],
   "source": [
    "marvel_csv = pd.read_csv(\"Marvel_Bechdel - Marvel.csv\")\n",
    "marvel_csv.columns = ['film_name', 'binary', 'dom_gross', 'int_gross', 'budget','year']\n",
    "marvel_pass = marvel_csv.loc[marvel_csv['binary'] == \"PASS\"].groupby('year').film_name.nunique()\n",
    "marvel_fail = marvel_csv.loc[marvel_csv['binary'] == \"FAIL\"].groupby('year').film_name.nunique()\n",
    "count_by_year = pd.concat([marvel_pass, marvel_fail], axis = 1, sort = False)\n",
    "count_by_year = count_by_year.fillna(value = 0)\n",
    "count_by_year.columns = ['pass','fail']\n",
    "count_by_year = count_by_year.assign(PASS = lambda x : x['pass']/(x['pass']+x['fail']))\n",
    "count_by_year = count_by_year.assign(FAIL = lambda x : x['fail']/(x['pass']+x['fail']))\n",
    "count_by_year = count_by_year.drop(columns = ['pass','fail'])\n",
    "count_by_year[['PASS', 'FAIL']].plot(kind = 'bar', stacked = True, position = 0, color = ('orange', 'blue'))\n",
    "plt.title('Pass vs. Fail by Year')"
   ]
  },
  {
   "cell_type": "code",
   "execution_count": 27,
   "metadata": {},
   "outputs": [
    {
     "data": {
      "text/html": [
       "<div>\n",
       "<style scoped>\n",
       "    .dataframe tbody tr th:only-of-type {\n",
       "        vertical-align: middle;\n",
       "    }\n",
       "\n",
       "    .dataframe tbody tr th {\n",
       "        vertical-align: top;\n",
       "    }\n",
       "\n",
       "    .dataframe thead th {\n",
       "        text-align: right;\n",
       "    }\n",
       "</style>\n",
       "<table border=\"1\" class=\"dataframe\">\n",
       "  <thead>\n",
       "    <tr style=\"text-align: right;\">\n",
       "      <th></th>\n",
       "      <th>PASS</th>\n",
       "      <th>FAIL</th>\n",
       "    </tr>\n",
       "    <tr>\n",
       "      <th>year</th>\n",
       "      <th></th>\n",
       "      <th></th>\n",
       "    </tr>\n",
       "  </thead>\n",
       "  <tbody>\n",
       "    <tr>\n",
       "      <th>2008</th>\n",
       "      <td>0.000000</td>\n",
       "      <td>1.000000</td>\n",
       "    </tr>\n",
       "    <tr>\n",
       "      <th>2010</th>\n",
       "      <td>1.000000</td>\n",
       "      <td>0.000000</td>\n",
       "    </tr>\n",
       "    <tr>\n",
       "      <th>2011</th>\n",
       "      <td>0.500000</td>\n",
       "      <td>0.500000</td>\n",
       "    </tr>\n",
       "    <tr>\n",
       "      <th>2012</th>\n",
       "      <td>0.000000</td>\n",
       "      <td>1.000000</td>\n",
       "    </tr>\n",
       "    <tr>\n",
       "      <th>2013</th>\n",
       "      <td>1.000000</td>\n",
       "      <td>0.000000</td>\n",
       "    </tr>\n",
       "    <tr>\n",
       "      <th>2014</th>\n",
       "      <td>1.000000</td>\n",
       "      <td>0.000000</td>\n",
       "    </tr>\n",
       "    <tr>\n",
       "      <th>2015</th>\n",
       "      <td>0.500000</td>\n",
       "      <td>0.500000</td>\n",
       "    </tr>\n",
       "    <tr>\n",
       "      <th>2016</th>\n",
       "      <td>0.000000</td>\n",
       "      <td>1.000000</td>\n",
       "    </tr>\n",
       "    <tr>\n",
       "      <th>2017</th>\n",
       "      <td>0.333333</td>\n",
       "      <td>0.666667</td>\n",
       "    </tr>\n",
       "    <tr>\n",
       "      <th>2018</th>\n",
       "      <td>0.666667</td>\n",
       "      <td>0.333333</td>\n",
       "    </tr>\n",
       "    <tr>\n",
       "      <th>2019</th>\n",
       "      <td>0.666667</td>\n",
       "      <td>0.333333</td>\n",
       "    </tr>\n",
       "  </tbody>\n",
       "</table>\n",
       "</div>"
      ],
      "text/plain": [
       "          PASS      FAIL\n",
       "year                    \n",
       "2008  0.000000  1.000000\n",
       "2010  1.000000  0.000000\n",
       "2011  0.500000  0.500000\n",
       "2012  0.000000  1.000000\n",
       "2013  1.000000  0.000000\n",
       "2014  1.000000  0.000000\n",
       "2015  0.500000  0.500000\n",
       "2016  0.000000  1.000000\n",
       "2017  0.333333  0.666667\n",
       "2018  0.666667  0.333333\n",
       "2019  0.666667  0.333333"
      ]
     },
     "execution_count": 27,
     "metadata": {},
     "output_type": "execute_result"
    }
   ],
   "source": [
    "count_by_year"
   ]
  },
  {
   "cell_type": "markdown",
   "metadata": {},
   "source": [
    "## Budget\n",
    "On average, Marvel has spent about 203 million dollars per film passing the test, while spending about 187 million per film that fails the test."
   ]
  },
  {
   "cell_type": "code",
   "execution_count": 32,
   "metadata": {},
   "outputs": [
    {
     "data": {
      "text/plain": [
       "Text(0.5, 1.0, 'Budget by Year')"
      ]
     },
     "execution_count": 32,
     "metadata": {},
     "output_type": "execute_result"
    },
    {
     "data": {
      "image/png": "[encoded data removed]",
      "text/plain": [
       "<Figure size 432x288 with 1 Axes>"
      ]
     },
     "metadata": {
      "needs_background": "light"
     },
     "output_type": "display_data"
    }
   ],
   "source": [
    "marvel_csv.groupby(['year', 'binary']).budget.sum()\n",
    "df = pd.DataFrame(marvel_csv.groupby(['year', 'binary']).budget.sum())\n",
    "df2 = df.unstack().fillna(value = 0)\n",
    "df2.plot(kind = 'bar')\n",
    "plt.title(\"Budget by Year\")"
   ]
  },
  {
   "cell_type": "code",
   "execution_count": 41,
   "metadata": {},
   "outputs": [
    {
     "data": {
      "text/html": [
       "<div>\n",
       "<style scoped>\n",
       "    .dataframe tbody tr th:only-of-type {\n",
       "        vertical-align: middle;\n",
       "    }\n",
       "\n",
       "    .dataframe tbody tr th {\n",
       "        vertical-align: top;\n",
       "    }\n",
       "\n",
       "    .dataframe thead th {\n",
       "        text-align: right;\n",
       "    }\n",
       "</style>\n",
       "<table border=\"1\" class=\"dataframe\">\n",
       "  <thead>\n",
       "    <tr style=\"text-align: right;\">\n",
       "      <th></th>\n",
       "      <th>budget</th>\n",
       "    </tr>\n",
       "    <tr>\n",
       "      <th>binary</th>\n",
       "      <th></th>\n",
       "    </tr>\n",
       "  </thead>\n",
       "  <tbody>\n",
       "    <tr>\n",
       "      <th>FAIL</th>\n",
       "      <td>187750000</td>\n",
       "    </tr>\n",
       "    <tr>\n",
       "      <th>PASS</th>\n",
       "      <td>203800000</td>\n",
       "    </tr>\n",
       "  </tbody>\n",
       "</table>\n",
       "</div>"
      ],
      "text/plain": [
       "           budget\n",
       "binary           \n",
       "FAIL    187750000\n",
       "PASS    203800000"
      ]
     },
     "execution_count": 41,
     "metadata": {},
     "output_type": "execute_result"
    }
   ],
   "source": [
    "marvel_pass = marvel_csv[marvel_csv['binary'] == \"PASS\"]\n",
    "marvel_fail = marvel_csv[marvel_csv['binary'] == \"FAIL\"]\n",
    "marvel_csv[['binary', 'budget']].groupby(['binary']).mean()"
   ]
  },
  {
   "cell_type": "markdown",
   "metadata": {},
   "source": [
    "## Return\n",
    "The average return value for Marvel movies that pass is about 861 million dollars, while the average for those that fail falls short of those that pass, with an average return of about 753 million."
   ]
  },
  {
   "cell_type": "code",
   "execution_count": 30,
   "metadata": {},
   "outputs": [
    {
     "data": {
      "text/plain": [
       "Text(0.5, 1.0, 'Return by Year')"
      ]
     },
     "execution_count": 30,
     "metadata": {},
     "output_type": "execute_result"
    },
    {
     "data": {
      "image/png": "[encoded data removed]",
      "text/plain": [
       "<Figure size 432x288 with 1 Axes>"
      ]
     },
     "metadata": {
      "needs_background": "light"
     },
     "output_type": "display_data"
    }
   ],
   "source": [
    "marvel_csv = marvel_csv.assign(RETURN = lambda x: x.int_gross + x.dom_gross - x.budget)\n",
    "marvel_pass_return = marvel_csv.loc[marvel_csv['binary'] == \"PASS\"]\n",
    "marvel_fail_return = marvel_csv.loc[marvel_csv['binary'] == \"FAIL\"]\n",
    "marvel_csv.groupby(['year', 'binary']).RETURN.sum()\n",
    "df = pd.DataFrame(marvel_csv.groupby(['year', 'binary']).RETURN.sum())\n",
    "df2 = df.unstack().fillna(value = 0)\n",
    "df2.plot(kind = 'bar')\n",
    "plt.title(\"Return by Year\")"
   ]
  },
  {
   "cell_type": "code",
   "execution_count": 42,
   "metadata": {},
   "outputs": [
    {
     "data": {
      "text/html": [
       "<div>\n",
       "<style scoped>\n",
       "    .dataframe tbody tr th:only-of-type {\n",
       "        vertical-align: middle;\n",
       "    }\n",
       "\n",
       "    .dataframe tbody tr th {\n",
       "        vertical-align: top;\n",
       "    }\n",
       "\n",
       "    .dataframe thead th {\n",
       "        text-align: right;\n",
       "    }\n",
       "</style>\n",
       "<table border=\"1\" class=\"dataframe\">\n",
       "  <thead>\n",
       "    <tr style=\"text-align: right;\">\n",
       "      <th></th>\n",
       "      <th>RETURN</th>\n",
       "    </tr>\n",
       "    <tr>\n",
       "      <th>binary</th>\n",
       "      <th></th>\n",
       "    </tr>\n",
       "  </thead>\n",
       "  <tbody>\n",
       "    <tr>\n",
       "      <th>FAIL</th>\n",
       "      <td>7.533516e+08</td>\n",
       "    </tr>\n",
       "    <tr>\n",
       "      <th>PASS</th>\n",
       "      <td>8.610384e+08</td>\n",
       "    </tr>\n",
       "  </tbody>\n",
       "</table>\n",
       "</div>"
      ],
      "text/plain": [
       "              RETURN\n",
       "binary              \n",
       "FAIL    7.533516e+08\n",
       "PASS    8.610384e+08"
      ]
     },
     "execution_count": 42,
     "metadata": {},
     "output_type": "execute_result"
    }
   ],
   "source": [
    "marvel_pass = marvel_csv[marvel_csv['binary'] == \"PASS\"]\n",
    "marvel_fail = marvel_csv[marvel_csv['binary'] == \"FAIL\"]\n",
    "marvel_csv[['binary', 'RETURN']].groupby(['binary']).mean()"
   ]
  },
  {
   "cell_type": "markdown",
   "metadata": {},
   "source": [
    "# Data Modeling"
   ]
  },
  {
   "cell_type": "code",
   "execution_count": 59,
   "metadata": {},
   "outputs": [
    {
     "data": {
      "text/plain": [
       "Text(0.5, 1.0, 'Return Trend Over Time')"
      ]
     },
     "execution_count": 59,
     "metadata": {},
     "output_type": "execute_result"
    },
    {
     "data": {
      "image/png": "[encoded data removed]",
      "text/plain": [
       "<Figure size 432x288 with 1 Axes>"
      ]
     },
     "metadata": {
      "needs_background": "light"
     },
     "output_type": "display_data"
    }
   ],
   "source": [
    "total_narm = total.dropna(how = 'any')\n",
    "bech_pass = total_narm[total_narm['binary'] == \"PASS\"]\n",
    "bech_fail = total_narm[total_narm['binary'] == \"FAIL\"]\n",
    "pass_x = bech_pass.year.values.reshape(-1, 1)  # values converts it into a numpy array\n",
    "pass_y = bech_pass['return'].values.reshape(-1, 1)  # -1 means that calculate the dimension of rows, but have 1 column\n",
    "fail_x = bech_fail.year.values.reshape(-1, 1)  # values converts it into a numpy array\n",
    "fail_y = bech_fail['return'].values.reshape(-1, 1) \n",
    "linear_regressor = LinearRegression()  # create object for the class\n",
    "linear_regressor.fit(pass_x, pass_y)  # perform linear regression\n",
    "pass_y_pred = linear_regressor.predict(pass_x)  # make predictions\n",
    "linear_regressor.fit(fail_x, fail_y)\n",
    "fail_y_pred = linear_regressor.predict(fail_x)\n",
    "plt.scatter(pass_x, pass_y, color = \"orange\")\n",
    "plt.scatter(fail_x, fail_y, color = \"blue\")\n",
    "plt.plot(pass_x, pass_y_pred, color='orange', label = \"PASS\")\n",
    "plt.plot(fail_x, fail_y_pred, color=\"blue\", label = \"FAIL\")\n",
    "plt.legend()\n",
    "plt.title(\"Return Trend Over Time\")"
   ]
  },
  {
   "cell_type": "code",
   "execution_count": 44,
   "metadata": {},
   "outputs": [
    {
     "data": {
      "text/plain": [
       "Text(0.5, 1.0, 'Return Trend Over Time')"
      ]
     },
     "execution_count": 44,
     "metadata": {},
     "output_type": "execute_result"
    },
    {
     "data": {
      "image/png": "[encoded data removed]",
      "text/plain": [
       "<Figure size 432x288 with 1 Axes>"
      ]
     },
     "metadata": {
      "needs_background": "light"
     },
     "output_type": "display_data"
    }
   ],
   "source": [
    "pass_x = marvel_pass_return.year.values.reshape(-1, 1)  # values converts it into a numpy array\n",
    "pass_y = marvel_pass_return.RETURN.values.reshape(-1, 1)  # -1 means that calculate the dimension of rows, but have 1 column\n",
    "fail_x = marvel_fail_return.year.values.reshape(-1, 1)\n",
    "fail_y = marvel_fail_return.RETURN.values.reshape(-1, 1)\n",
    "linear_regressor = LinearRegression()  # create object for the class\n",
    "linear_regressor.fit(pass_x, pass_y)  # perform linear regression\n",
    "pass_y_pred = linear_regressor.predict(pass_x)  # make predictions\n",
    "linear_regressor.fit(fail_x, fail_y)\n",
    "fail_y_pred = linear_regressor.predict(fail_x)\n",
    "plt.scatter(pass_x, pass_y, color = \"orange\")\n",
    "plt.scatter(fail_x, fail_y, color = \"blue\")\n",
    "plt.plot(pass_x, pass_y_pred, color='orange', label = \"PASS\")\n",
    "plt.plot(fail_x, fail_y_pred, color=\"blue\", label = \"FAIL\")\n",
    "plt.legend()\n",
    "plt.title(\"Return Trend Over Time\")"
   ]
  },
  {
   "cell_type": "code",
   "execution_count": 45,
   "metadata": {},
   "outputs": [
    {
     "data": {
      "text/plain": [
       "Text(0.5, 1.0, 'Budget Trend Over Time')"
      ]
     },
     "execution_count": 45,
     "metadata": {},
     "output_type": "execute_result"
    },
    {
     "data": {
      "image/png": "[encoded data removed]",
      "text/plain": [
       "<Figure size 432x288 with 1 Axes>"
      ]
     },
     "metadata": {
      "needs_background": "light"
     },
     "output_type": "display_data"
    }
   ],
   "source": [
    "pass_x = marvel_pass.year.values.reshape(-1, 1)  # values converts it into a numpy array\n",
    "pass_y = marvel_pass.budget.values.reshape(-1, 1)  # -1 means that calculate the dimension of rows, but have 1 column\n",
    "fail_x = marvel_fail.year.values.reshape(-1, 1)\n",
    "fail_y = marvel_fail.budget.values.reshape(-1, 1)\n",
    "linear_regressor = LinearRegression()  # create object for the class\n",
    "linear_regressor.fit(pass_x, pass_y)  # perform linear regression\n",
    "pass_y_pred = linear_regressor.predict(pass_x)  # make predictions\n",
    "linear_regressor.fit(fail_x, fail_y)\n",
    "fail_y_pred = linear_regressor.predict(fail_x)\n",
    "plt.scatter(pass_x, pass_y, color = \"orange\")\n",
    "plt.scatter(fail_x, fail_y, color = \"blue\")\n",
    "plt.plot(pass_x, pass_y_pred, color='orange', label = \"PASS\")\n",
    "plt.plot(fail_x, fail_y_pred, color=\"blue\", label = \"FAIL\")\n",
    "plt.legend()\n",
    "plt.title(\"Budget Trend Over Time\")"
   ]
  }
 ],
 "metadata": {
  "kernelspec": {
   "display_name": "Python 3",
   "language": "python",
   "name": "python3"
  },
  "language_info": {
   "codemirror_mode": {
    "name": "ipython",
    "version": 3
   },
   "file_extension": ".py",
   "mimetype": "text/x-python",
   "name": "python",
   "nbconvert_exporter": "python",
   "pygments_lexer": "ipython3",
   "version": "3.7.3"
  }
 },
 "nbformat": 4,
 "nbformat_minor": 2
}
