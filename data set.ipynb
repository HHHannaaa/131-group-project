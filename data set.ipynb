{
 "cells": [
  {
   "cell_type": "code",
   "execution_count": 111,
   "metadata": {},
   "outputs": [],
   "source": [
    "import pandas as pd\n",
    "import numpy as np\n",
    "import matplotlib.pyplot as plt\n",
    "from sklearn.linear_model import LinearRegression\n",
    "from sklearn import svm\n",
    "import seaborn as sns"
   ]
  },
  {
   "cell_type": "markdown",
   "metadata": {},
   "source": [
    "### 2013 data"
   ]
  },
  {
   "cell_type": "code",
   "execution_count": 2,
   "metadata": {
    "scrolled": true
   },
   "outputs": [
    {
     "data": {
      "text/html": [
       "<div>\n",
       "<style scoped>\n",
       "    .dataframe tbody tr th:only-of-type {\n",
       "        vertical-align: middle;\n",
       "    }\n",
       "\n",
       "    .dataframe tbody tr th {\n",
       "        vertical-align: top;\n",
       "    }\n",
       "\n",
       "    .dataframe thead th {\n",
       "        text-align: right;\n",
       "    }\n",
       "</style>\n",
       "<table border=\"1\" class=\"dataframe\">\n",
       "  <thead>\n",
       "    <tr style=\"text-align: right;\">\n",
       "      <th></th>\n",
       "      <th>year</th>\n",
       "      <th>imdb</th>\n",
       "      <th>title</th>\n",
       "      <th>test</th>\n",
       "      <th>clean_test</th>\n",
       "      <th>binary</th>\n",
       "      <th>budget</th>\n",
       "      <th>domgross</th>\n",
       "      <th>intgross</th>\n",
       "      <th>code</th>\n",
       "      <th>budget_2013</th>\n",
       "      <th>domgross_2013</th>\n",
       "      <th>intgross_2013</th>\n",
       "      <th>period_code</th>\n",
       "      <th>decade_code</th>\n",
       "    </tr>\n",
       "  </thead>\n",
       "  <tbody>\n",
       "    <tr>\n",
       "      <th>1</th>\n",
       "      <td>2013</td>\n",
       "      <td>tt1711425</td>\n",
       "      <td>21 &amp; Over</td>\n",
       "      <td>notalk</td>\n",
       "      <td>notalk</td>\n",
       "      <td>FAIL</td>\n",
       "      <td>13000000</td>\n",
       "      <td>25682380.0</td>\n",
       "      <td>42195766.0</td>\n",
       "      <td>2013FAIL</td>\n",
       "      <td>13000000</td>\n",
       "      <td>25682380.0</td>\n",
       "      <td>42195766.0</td>\n",
       "      <td>1.0</td>\n",
       "      <td>1.0</td>\n",
       "    </tr>\n",
       "    <tr>\n",
       "      <th>2</th>\n",
       "      <td>2012</td>\n",
       "      <td>tt1343727</td>\n",
       "      <td>Dredd 3D</td>\n",
       "      <td>ok-disagree</td>\n",
       "      <td>ok</td>\n",
       "      <td>PASS</td>\n",
       "      <td>45000000</td>\n",
       "      <td>13414714.0</td>\n",
       "      <td>40868994.0</td>\n",
       "      <td>2012PASS</td>\n",
       "      <td>45658735</td>\n",
       "      <td>13611086.0</td>\n",
       "      <td>41467257.0</td>\n",
       "      <td>1.0</td>\n",
       "      <td>1.0</td>\n",
       "    </tr>\n",
       "    <tr>\n",
       "      <th>3</th>\n",
       "      <td>2013</td>\n",
       "      <td>tt2024544</td>\n",
       "      <td>12 Years a Slave</td>\n",
       "      <td>notalk-disagree</td>\n",
       "      <td>notalk</td>\n",
       "      <td>FAIL</td>\n",
       "      <td>20000000</td>\n",
       "      <td>53107035.0</td>\n",
       "      <td>158607035.0</td>\n",
       "      <td>2013FAIL</td>\n",
       "      <td>20000000</td>\n",
       "      <td>53107035.0</td>\n",
       "      <td>158607035.0</td>\n",
       "      <td>1.0</td>\n",
       "      <td>1.0</td>\n",
       "    </tr>\n",
       "    <tr>\n",
       "      <th>4</th>\n",
       "      <td>2013</td>\n",
       "      <td>tt1272878</td>\n",
       "      <td>2 Guns</td>\n",
       "      <td>notalk</td>\n",
       "      <td>notalk</td>\n",
       "      <td>FAIL</td>\n",
       "      <td>61000000</td>\n",
       "      <td>75612460.0</td>\n",
       "      <td>132493015.0</td>\n",
       "      <td>2013FAIL</td>\n",
       "      <td>61000000</td>\n",
       "      <td>75612460.0</td>\n",
       "      <td>132493015.0</td>\n",
       "      <td>1.0</td>\n",
       "      <td>1.0</td>\n",
       "    </tr>\n",
       "    <tr>\n",
       "      <th>5</th>\n",
       "      <td>2013</td>\n",
       "      <td>tt0453562</td>\n",
       "      <td>42</td>\n",
       "      <td>men</td>\n",
       "      <td>men</td>\n",
       "      <td>FAIL</td>\n",
       "      <td>40000000</td>\n",
       "      <td>95020213.0</td>\n",
       "      <td>95020213.0</td>\n",
       "      <td>2013FAIL</td>\n",
       "      <td>40000000</td>\n",
       "      <td>95020213.0</td>\n",
       "      <td>95020213.0</td>\n",
       "      <td>1.0</td>\n",
       "      <td>1.0</td>\n",
       "    </tr>\n",
       "  </tbody>\n",
       "</table>\n",
       "</div>"
      ],
      "text/plain": [
       "   year       imdb             title             test clean_test binary  \\\n",
       "1  2013  tt1711425         21 & Over           notalk     notalk   FAIL   \n",
       "2  2012  tt1343727          Dredd 3D      ok-disagree         ok   PASS   \n",
       "3  2013  tt2024544  12 Years a Slave  notalk-disagree     notalk   FAIL   \n",
       "4  2013  tt1272878            2 Guns           notalk     notalk   FAIL   \n",
       "5  2013  tt0453562                42              men        men   FAIL   \n",
       "\n",
       "     budget    domgross     intgross      code  budget_2013  domgross_2013  \\\n",
       "1  13000000  25682380.0   42195766.0  2013FAIL     13000000     25682380.0   \n",
       "2  45000000  13414714.0   40868994.0  2012PASS     45658735     13611086.0   \n",
       "3  20000000  53107035.0  158607035.0  2013FAIL     20000000     53107035.0   \n",
       "4  61000000  75612460.0  132493015.0  2013FAIL     61000000     75612460.0   \n",
       "5  40000000  95020213.0   95020213.0  2013FAIL     40000000     95020213.0   \n",
       "\n",
       "   intgross_2013  period_code  decade_code  \n",
       "1     42195766.0          1.0          1.0  \n",
       "2     41467257.0          1.0          1.0  \n",
       "3    158607035.0          1.0          1.0  \n",
       "4    132493015.0          1.0          1.0  \n",
       "5     95020213.0          1.0          1.0  "
      ]
     },
     "execution_count": 2,
     "metadata": {},
     "output_type": "execute_result"
    }
   ],
   "source": [
    "bechdel2013 = pd.read_csv(\"~/desktop/bechdel.csv\", index_col = 0)\n",
    "bechdel2013.head()"
   ]
  },
  {
   "cell_type": "code",
   "execution_count": 3,
   "metadata": {},
   "outputs": [
    {
     "name": "stdout",
     "output_type": "stream",
     "text": [
      "<class 'pandas.core.frame.DataFrame'>\n",
      "Int64Index: 1794 entries, 1 to 1794\n",
      "Data columns (total 15 columns):\n",
      "year             1794 non-null int64\n",
      "imdb             1794 non-null object\n",
      "title            1794 non-null object\n",
      "test             1794 non-null object\n",
      "clean_test       1794 non-null object\n",
      "binary           1794 non-null object\n",
      "budget           1794 non-null int64\n",
      "domgross         1777 non-null float64\n",
      "intgross         1783 non-null float64\n",
      "code             1794 non-null object\n",
      "budget_2013      1794 non-null int64\n",
      "domgross_2013    1776 non-null float64\n",
      "intgross_2013    1783 non-null float64\n",
      "period_code      1615 non-null float64\n",
      "decade_code      1615 non-null float64\n",
      "dtypes: float64(6), int64(3), object(6)\n",
      "memory usage: 224.2+ KB\n"
     ]
    }
   ],
   "source": [
    "bechdel2013.info() # there are unused columns and null objects in intgross and domgross"
   ]
  },
  {
   "cell_type": "code",
   "execution_count": 4,
   "metadata": {},
   "outputs": [
    {
     "data": {
      "text/html": [
       "<div>\n",
       "<style scoped>\n",
       "    .dataframe tbody tr th:only-of-type {\n",
       "        vertical-align: middle;\n",
       "    }\n",
       "\n",
       "    .dataframe tbody tr th {\n",
       "        vertical-align: top;\n",
       "    }\n",
       "\n",
       "    .dataframe thead th {\n",
       "        text-align: right;\n",
       "    }\n",
       "</style>\n",
       "<table border=\"1\" class=\"dataframe\">\n",
       "  <thead>\n",
       "    <tr style=\"text-align: right;\">\n",
       "      <th></th>\n",
       "      <th>year</th>\n",
       "      <th>title</th>\n",
       "      <th>binary</th>\n",
       "      <th>budget</th>\n",
       "      <th>domgross</th>\n",
       "      <th>intgross</th>\n",
       "      <th>budget_2013</th>\n",
       "      <th>domgross_2013</th>\n",
       "      <th>intgross_2013</th>\n",
       "    </tr>\n",
       "  </thead>\n",
       "  <tbody>\n",
       "    <tr>\n",
       "      <th>1</th>\n",
       "      <td>2013</td>\n",
       "      <td>21 &amp; Over</td>\n",
       "      <td>FAIL</td>\n",
       "      <td>13000000</td>\n",
       "      <td>25682380.0</td>\n",
       "      <td>42195766.0</td>\n",
       "      <td>13000000</td>\n",
       "      <td>25682380.0</td>\n",
       "      <td>42195766.0</td>\n",
       "    </tr>\n",
       "    <tr>\n",
       "      <th>2</th>\n",
       "      <td>2012</td>\n",
       "      <td>Dredd 3D</td>\n",
       "      <td>PASS</td>\n",
       "      <td>45000000</td>\n",
       "      <td>13414714.0</td>\n",
       "      <td>40868994.0</td>\n",
       "      <td>45658735</td>\n",
       "      <td>13611086.0</td>\n",
       "      <td>41467257.0</td>\n",
       "    </tr>\n",
       "    <tr>\n",
       "      <th>3</th>\n",
       "      <td>2013</td>\n",
       "      <td>12 Years a Slave</td>\n",
       "      <td>FAIL</td>\n",
       "      <td>20000000</td>\n",
       "      <td>53107035.0</td>\n",
       "      <td>158607035.0</td>\n",
       "      <td>20000000</td>\n",
       "      <td>53107035.0</td>\n",
       "      <td>158607035.0</td>\n",
       "    </tr>\n",
       "    <tr>\n",
       "      <th>4</th>\n",
       "      <td>2013</td>\n",
       "      <td>2 Guns</td>\n",
       "      <td>FAIL</td>\n",
       "      <td>61000000</td>\n",
       "      <td>75612460.0</td>\n",
       "      <td>132493015.0</td>\n",
       "      <td>61000000</td>\n",
       "      <td>75612460.0</td>\n",
       "      <td>132493015.0</td>\n",
       "    </tr>\n",
       "    <tr>\n",
       "      <th>5</th>\n",
       "      <td>2013</td>\n",
       "      <td>42</td>\n",
       "      <td>FAIL</td>\n",
       "      <td>40000000</td>\n",
       "      <td>95020213.0</td>\n",
       "      <td>95020213.0</td>\n",
       "      <td>40000000</td>\n",
       "      <td>95020213.0</td>\n",
       "      <td>95020213.0</td>\n",
       "    </tr>\n",
       "  </tbody>\n",
       "</table>\n",
       "</div>"
      ],
      "text/plain": [
       "   year             title binary    budget    domgross     intgross  \\\n",
       "1  2013         21 & Over   FAIL  13000000  25682380.0   42195766.0   \n",
       "2  2012          Dredd 3D   PASS  45000000  13414714.0   40868994.0   \n",
       "3  2013  12 Years a Slave   FAIL  20000000  53107035.0  158607035.0   \n",
       "4  2013            2 Guns   FAIL  61000000  75612460.0  132493015.0   \n",
       "5  2013                42   FAIL  40000000  95020213.0   95020213.0   \n",
       "\n",
       "   budget_2013  domgross_2013  intgross_2013  \n",
       "1     13000000     25682380.0     42195766.0  \n",
       "2     45658735     13611086.0     41467257.0  \n",
       "3     20000000     53107035.0    158607035.0  \n",
       "4     61000000     75612460.0    132493015.0  \n",
       "5     40000000     95020213.0     95020213.0  "
      ]
     },
     "execution_count": 4,
     "metadata": {},
     "output_type": "execute_result"
    }
   ],
   "source": [
    "bechdel2013 = bechdel2013.drop(['imdb', 'test', 'clean_test', 'code', \n",
    "                'period_code', 'decade_code'], axis=1) # drop the unused columns\n",
    "bechdel2013.head()"
   ]
  },
  {
   "cell_type": "code",
   "execution_count": 5,
   "metadata": {},
   "outputs": [
    {
     "name": "stdout",
     "output_type": "stream",
     "text": [
      "       year  title  binary  budget  domgross  intgross  budget_2013  \\\n",
      "1785  False  False   False   False     False     False        False   \n",
      "1786  False  False   False   False      True      True        False   \n",
      "1787  False  False   False   False     False     False        False   \n",
      "1788  False  False   False   False     False     False        False   \n",
      "1789  False  False   False   False     False     False        False   \n",
      "1790  False  False   False   False     False     False        False   \n",
      "1791  False  False   False   False     False     False        False   \n",
      "1792  False  False   False   False     False     False        False   \n",
      "1793  False  False   False   False     False     False        False   \n",
      "1794  False  False   False   False     False     False        False   \n",
      "\n",
      "      domgross_2013  intgross_2013  \n",
      "1785          False          False  \n",
      "1786           True           True  \n",
      "1787          False          False  \n",
      "1788          False          False  \n",
      "1789          False          False  \n",
      "1790          False          False  \n",
      "1791          False          False  \n",
      "1792          False          False  \n",
      "1793          False          False  \n",
      "1794          False          False  \n"
     ]
    }
   ],
   "source": [
    "nullobject = pd.isnull(bechdel2013)\n",
    "print(nullobject.tail(10)) # to see if the null objects are turned into 0\n",
    "nullobject_i = np.where(nullobject)"
   ]
  },
  {
   "cell_type": "code",
   "execution_count": 6,
   "metadata": {},
   "outputs": [
    {
     "data": {
      "text/html": [
       "<div>\n",
       "<style scoped>\n",
       "    .dataframe tbody tr th:only-of-type {\n",
       "        vertical-align: middle;\n",
       "    }\n",
       "\n",
       "    .dataframe tbody tr th {\n",
       "        vertical-align: top;\n",
       "    }\n",
       "\n",
       "    .dataframe thead th {\n",
       "        text-align: right;\n",
       "    }\n",
       "</style>\n",
       "<table border=\"1\" class=\"dataframe\">\n",
       "  <thead>\n",
       "    <tr style=\"text-align: right;\">\n",
       "      <th></th>\n",
       "      <th>year</th>\n",
       "      <th>title</th>\n",
       "      <th>binary</th>\n",
       "      <th>budget</th>\n",
       "      <th>domgross</th>\n",
       "      <th>intgross</th>\n",
       "      <th>budget_2013</th>\n",
       "      <th>domgross_2013</th>\n",
       "      <th>intgross_2013</th>\n",
       "    </tr>\n",
       "  </thead>\n",
       "  <tbody>\n",
       "    <tr>\n",
       "      <th>1785</th>\n",
       "      <td>1973</td>\n",
       "      <td>The Sting</td>\n",
       "      <td>FAIL</td>\n",
       "      <td>5500000</td>\n",
       "      <td>159616327.0</td>\n",
       "      <td>159616327.0</td>\n",
       "      <td>28841418</td>\n",
       "      <td>837011132.0</td>\n",
       "      <td>8.370111e+08</td>\n",
       "    </tr>\n",
       "    <tr>\n",
       "      <th>1786</th>\n",
       "      <td>1972</td>\n",
       "      <td>1776</td>\n",
       "      <td>FAIL</td>\n",
       "      <td>4000000</td>\n",
       "      <td>0.0</td>\n",
       "      <td>0.0</td>\n",
       "      <td>22288557</td>\n",
       "      <td>0.0</td>\n",
       "      <td>0.000000e+00</td>\n",
       "    </tr>\n",
       "    <tr>\n",
       "      <th>1787</th>\n",
       "      <td>1972</td>\n",
       "      <td>Pink Flamingos</td>\n",
       "      <td>PASS</td>\n",
       "      <td>12000</td>\n",
       "      <td>413802.0</td>\n",
       "      <td>413802.0</td>\n",
       "      <td>66866</td>\n",
       "      <td>2305762.0</td>\n",
       "      <td>2.305762e+06</td>\n",
       "    </tr>\n",
       "    <tr>\n",
       "      <th>1788</th>\n",
       "      <td>1972</td>\n",
       "      <td>The Godfather</td>\n",
       "      <td>FAIL</td>\n",
       "      <td>7000000</td>\n",
       "      <td>134966411.0</td>\n",
       "      <td>268500000.0</td>\n",
       "      <td>39004975</td>\n",
       "      <td>752051643.0</td>\n",
       "      <td>1.496119e+09</td>\n",
       "    </tr>\n",
       "    <tr>\n",
       "      <th>1789</th>\n",
       "      <td>1971</td>\n",
       "      <td>Escape from the Planet of the Apes</td>\n",
       "      <td>FAIL</td>\n",
       "      <td>2500000</td>\n",
       "      <td>12300000.0</td>\n",
       "      <td>12300000.0</td>\n",
       "      <td>14386286</td>\n",
       "      <td>70780525.0</td>\n",
       "      <td>7.078052e+07</td>\n",
       "    </tr>\n",
       "    <tr>\n",
       "      <th>1790</th>\n",
       "      <td>1971</td>\n",
       "      <td>Shaft</td>\n",
       "      <td>FAIL</td>\n",
       "      <td>53012938</td>\n",
       "      <td>70327868.0</td>\n",
       "      <td>107190108.0</td>\n",
       "      <td>305063707</td>\n",
       "      <td>404702718.0</td>\n",
       "      <td>6.168270e+08</td>\n",
       "    </tr>\n",
       "    <tr>\n",
       "      <th>1791</th>\n",
       "      <td>1971</td>\n",
       "      <td>Straw Dogs</td>\n",
       "      <td>FAIL</td>\n",
       "      <td>25000000</td>\n",
       "      <td>10324441.0</td>\n",
       "      <td>11253821.0</td>\n",
       "      <td>143862856</td>\n",
       "      <td>59412143.0</td>\n",
       "      <td>6.476027e+07</td>\n",
       "    </tr>\n",
       "    <tr>\n",
       "      <th>1792</th>\n",
       "      <td>1971</td>\n",
       "      <td>The French Connection</td>\n",
       "      <td>FAIL</td>\n",
       "      <td>2200000</td>\n",
       "      <td>41158757.0</td>\n",
       "      <td>41158757.0</td>\n",
       "      <td>12659931</td>\n",
       "      <td>236848653.0</td>\n",
       "      <td>2.368487e+08</td>\n",
       "    </tr>\n",
       "    <tr>\n",
       "      <th>1793</th>\n",
       "      <td>1971</td>\n",
       "      <td>Willy Wonka &amp; the Chocolate Factory</td>\n",
       "      <td>FAIL</td>\n",
       "      <td>3000000</td>\n",
       "      <td>4000000.0</td>\n",
       "      <td>4000000.0</td>\n",
       "      <td>17263543</td>\n",
       "      <td>23018057.0</td>\n",
       "      <td>2.301806e+07</td>\n",
       "    </tr>\n",
       "    <tr>\n",
       "      <th>1794</th>\n",
       "      <td>1970</td>\n",
       "      <td>Beyond the Valley of the Dolls</td>\n",
       "      <td>PASS</td>\n",
       "      <td>1000000</td>\n",
       "      <td>9000000.0</td>\n",
       "      <td>9000000.0</td>\n",
       "      <td>5997631</td>\n",
       "      <td>53978683.0</td>\n",
       "      <td>5.397868e+07</td>\n",
       "    </tr>\n",
       "  </tbody>\n",
       "</table>\n",
       "</div>"
      ],
      "text/plain": [
       "      year                                title binary    budget     domgross  \\\n",
       "1785  1973                            The Sting   FAIL   5500000  159616327.0   \n",
       "1786  1972                                 1776   FAIL   4000000          0.0   \n",
       "1787  1972                       Pink Flamingos   PASS     12000     413802.0   \n",
       "1788  1972                        The Godfather   FAIL   7000000  134966411.0   \n",
       "1789  1971   Escape from the Planet of the Apes   FAIL   2500000   12300000.0   \n",
       "1790  1971                                Shaft   FAIL  53012938   70327868.0   \n",
       "1791  1971                           Straw Dogs   FAIL  25000000   10324441.0   \n",
       "1792  1971                The French Connection   FAIL   2200000   41158757.0   \n",
       "1793  1971  Willy Wonka & the Chocolate Factory   FAIL   3000000    4000000.0   \n",
       "1794  1970       Beyond the Valley of the Dolls   PASS   1000000    9000000.0   \n",
       "\n",
       "         intgross  budget_2013  domgross_2013  intgross_2013  \n",
       "1785  159616327.0     28841418    837011132.0   8.370111e+08  \n",
       "1786          0.0     22288557            0.0   0.000000e+00  \n",
       "1787     413802.0        66866      2305762.0   2.305762e+06  \n",
       "1788  268500000.0     39004975    752051643.0   1.496119e+09  \n",
       "1789   12300000.0     14386286     70780525.0   7.078052e+07  \n",
       "1790  107190108.0    305063707    404702718.0   6.168270e+08  \n",
       "1791   11253821.0    143862856     59412143.0   6.476027e+07  \n",
       "1792   41158757.0     12659931    236848653.0   2.368487e+08  \n",
       "1793    4000000.0     17263543     23018057.0   2.301806e+07  \n",
       "1794    9000000.0      5997631     53978683.0   5.397868e+07  "
      ]
     },
     "execution_count": 6,
     "metadata": {},
     "output_type": "execute_result"
    }
   ],
   "source": [
    "bechdel2013.iloc[nullobject_i] = 0 \n",
    "bechdel2013.tail(10)"
   ]
  },
  {
   "cell_type": "code",
   "execution_count": 7,
   "metadata": {},
   "outputs": [
    {
     "name": "stdout",
     "output_type": "stream",
     "text": [
      "<class 'pandas.core.frame.DataFrame'>\n",
      "Int64Index: 1794 entries, 1 to 1794\n",
      "Data columns (total 9 columns):\n",
      "year             1794 non-null int64\n",
      "title            1794 non-null object\n",
      "binary           1794 non-null object\n",
      "budget           1794 non-null int64\n",
      "domgross         1794 non-null float64\n",
      "intgross         1794 non-null float64\n",
      "budget_2013      1794 non-null int64\n",
      "domgross_2013    1794 non-null float64\n",
      "intgross_2013    1794 non-null float64\n",
      "dtypes: float64(4), int64(3), object(2)\n",
      "memory usage: 140.2+ KB\n"
     ]
    }
   ],
   "source": [
    "bechdel2013.info() # no null objects"
   ]
  },
  {
   "cell_type": "code",
   "execution_count": 8,
   "metadata": {},
   "outputs": [],
   "source": [
    "# https://www.usinflationcalculator.com/\n",
    "bechdel2013['budget_2019'] = 1.1 * bechdel2013.budget_2013 \n",
    "bechdel2013['domgross_2019'] = 1.1 * bechdel2013.domgross_2013\n",
    "bechdel2013['intgross_2019'] = 1.1 * bechdel2013.intgross_2013"
   ]
  },
  {
   "cell_type": "code",
   "execution_count": 9,
   "metadata": {},
   "outputs": [
    {
     "data": {
      "text/html": [
       "<div>\n",
       "<style scoped>\n",
       "    .dataframe tbody tr th:only-of-type {\n",
       "        vertical-align: middle;\n",
       "    }\n",
       "\n",
       "    .dataframe tbody tr th {\n",
       "        vertical-align: top;\n",
       "    }\n",
       "\n",
       "    .dataframe thead th {\n",
       "        text-align: right;\n",
       "    }\n",
       "</style>\n",
       "<table border=\"1\" class=\"dataframe\">\n",
       "  <thead>\n",
       "    <tr style=\"text-align: right;\">\n",
       "      <th></th>\n",
       "      <th>year</th>\n",
       "      <th>title</th>\n",
       "      <th>binary</th>\n",
       "      <th>budget</th>\n",
       "      <th>domgross</th>\n",
       "      <th>intgross</th>\n",
       "      <th>budget_2013</th>\n",
       "      <th>domgross_2013</th>\n",
       "      <th>intgross_2013</th>\n",
       "      <th>budget_2019</th>\n",
       "      <th>domgross_2019</th>\n",
       "      <th>intgross_2019</th>\n",
       "    </tr>\n",
       "  </thead>\n",
       "  <tbody>\n",
       "    <tr>\n",
       "      <th>1</th>\n",
       "      <td>2013</td>\n",
       "      <td>21 &amp; Over</td>\n",
       "      <td>FAIL</td>\n",
       "      <td>13000000</td>\n",
       "      <td>25682380.0</td>\n",
       "      <td>42195766.0</td>\n",
       "      <td>13000000</td>\n",
       "      <td>25682380.0</td>\n",
       "      <td>42195766.0</td>\n",
       "      <td>14300000.0</td>\n",
       "      <td>28250618.0</td>\n",
       "      <td>46415342.6</td>\n",
       "    </tr>\n",
       "    <tr>\n",
       "      <th>2</th>\n",
       "      <td>2012</td>\n",
       "      <td>Dredd 3D</td>\n",
       "      <td>PASS</td>\n",
       "      <td>45000000</td>\n",
       "      <td>13414714.0</td>\n",
       "      <td>40868994.0</td>\n",
       "      <td>45658735</td>\n",
       "      <td>13611086.0</td>\n",
       "      <td>41467257.0</td>\n",
       "      <td>50224608.5</td>\n",
       "      <td>14972194.6</td>\n",
       "      <td>45613982.7</td>\n",
       "    </tr>\n",
       "    <tr>\n",
       "      <th>3</th>\n",
       "      <td>2013</td>\n",
       "      <td>12 Years a Slave</td>\n",
       "      <td>FAIL</td>\n",
       "      <td>20000000</td>\n",
       "      <td>53107035.0</td>\n",
       "      <td>158607035.0</td>\n",
       "      <td>20000000</td>\n",
       "      <td>53107035.0</td>\n",
       "      <td>158607035.0</td>\n",
       "      <td>22000000.0</td>\n",
       "      <td>58417738.5</td>\n",
       "      <td>174467738.5</td>\n",
       "    </tr>\n",
       "    <tr>\n",
       "      <th>4</th>\n",
       "      <td>2013</td>\n",
       "      <td>2 Guns</td>\n",
       "      <td>FAIL</td>\n",
       "      <td>61000000</td>\n",
       "      <td>75612460.0</td>\n",
       "      <td>132493015.0</td>\n",
       "      <td>61000000</td>\n",
       "      <td>75612460.0</td>\n",
       "      <td>132493015.0</td>\n",
       "      <td>67100000.0</td>\n",
       "      <td>83173706.0</td>\n",
       "      <td>145742316.5</td>\n",
       "    </tr>\n",
       "    <tr>\n",
       "      <th>5</th>\n",
       "      <td>2013</td>\n",
       "      <td>42</td>\n",
       "      <td>FAIL</td>\n",
       "      <td>40000000</td>\n",
       "      <td>95020213.0</td>\n",
       "      <td>95020213.0</td>\n",
       "      <td>40000000</td>\n",
       "      <td>95020213.0</td>\n",
       "      <td>95020213.0</td>\n",
       "      <td>44000000.0</td>\n",
       "      <td>104522234.3</td>\n",
       "      <td>104522234.3</td>\n",
       "    </tr>\n",
       "  </tbody>\n",
       "</table>\n",
       "</div>"
      ],
      "text/plain": [
       "   year             title binary    budget    domgross     intgross  \\\n",
       "1  2013         21 & Over   FAIL  13000000  25682380.0   42195766.0   \n",
       "2  2012          Dredd 3D   PASS  45000000  13414714.0   40868994.0   \n",
       "3  2013  12 Years a Slave   FAIL  20000000  53107035.0  158607035.0   \n",
       "4  2013            2 Guns   FAIL  61000000  75612460.0  132493015.0   \n",
       "5  2013                42   FAIL  40000000  95020213.0   95020213.0   \n",
       "\n",
       "   budget_2013  domgross_2013  intgross_2013  budget_2019  domgross_2019  \\\n",
       "1     13000000     25682380.0     42195766.0   14300000.0     28250618.0   \n",
       "2     45658735     13611086.0     41467257.0   50224608.5     14972194.6   \n",
       "3     20000000     53107035.0    158607035.0   22000000.0     58417738.5   \n",
       "4     61000000     75612460.0    132493015.0   67100000.0     83173706.0   \n",
       "5     40000000     95020213.0     95020213.0   44000000.0    104522234.3   \n",
       "\n",
       "   intgross_2019  \n",
       "1     46415342.6  \n",
       "2     45613982.7  \n",
       "3    174467738.5  \n",
       "4    145742316.5  \n",
       "5    104522234.3  "
      ]
     },
     "execution_count": 9,
     "metadata": {},
     "output_type": "execute_result"
    }
   ],
   "source": [
    "bechdel2013.head()"
   ]
  },
  {
   "cell_type": "code",
   "execution_count": 10,
   "metadata": {},
   "outputs": [],
   "source": [
    "bechdel2013['return'] = bechdel2013.intgross_2019 + bechdel2013.domgross_2019 - bechdel2013.budget_2019 # return"
   ]
  },
  {
   "cell_type": "code",
   "execution_count": 11,
   "metadata": {},
   "outputs": [
    {
     "data": {
      "text/html": [
       "<div>\n",
       "<style scoped>\n",
       "    .dataframe tbody tr th:only-of-type {\n",
       "        vertical-align: middle;\n",
       "    }\n",
       "\n",
       "    .dataframe tbody tr th {\n",
       "        vertical-align: top;\n",
       "    }\n",
       "\n",
       "    .dataframe thead th {\n",
       "        text-align: right;\n",
       "    }\n",
       "</style>\n",
       "<table border=\"1\" class=\"dataframe\">\n",
       "  <thead>\n",
       "    <tr style=\"text-align: right;\">\n",
       "      <th></th>\n",
       "      <th>year</th>\n",
       "      <th>title</th>\n",
       "      <th>binary</th>\n",
       "      <th>budget</th>\n",
       "      <th>domgross</th>\n",
       "      <th>intgross</th>\n",
       "      <th>budget_2013</th>\n",
       "      <th>domgross_2013</th>\n",
       "      <th>intgross_2013</th>\n",
       "      <th>budget_2019</th>\n",
       "      <th>domgross_2019</th>\n",
       "      <th>intgross_2019</th>\n",
       "      <th>return</th>\n",
       "    </tr>\n",
       "  </thead>\n",
       "  <tbody>\n",
       "    <tr>\n",
       "      <th>1</th>\n",
       "      <td>2013</td>\n",
       "      <td>21 &amp; Over</td>\n",
       "      <td>FAIL</td>\n",
       "      <td>13000000</td>\n",
       "      <td>25682380.0</td>\n",
       "      <td>42195766.0</td>\n",
       "      <td>13000000</td>\n",
       "      <td>25682380.0</td>\n",
       "      <td>42195766.0</td>\n",
       "      <td>14300000.0</td>\n",
       "      <td>28250618.0</td>\n",
       "      <td>46415342.6</td>\n",
       "      <td>60365960.6</td>\n",
       "    </tr>\n",
       "    <tr>\n",
       "      <th>2</th>\n",
       "      <td>2012</td>\n",
       "      <td>Dredd 3D</td>\n",
       "      <td>PASS</td>\n",
       "      <td>45000000</td>\n",
       "      <td>13414714.0</td>\n",
       "      <td>40868994.0</td>\n",
       "      <td>45658735</td>\n",
       "      <td>13611086.0</td>\n",
       "      <td>41467257.0</td>\n",
       "      <td>50224608.5</td>\n",
       "      <td>14972194.6</td>\n",
       "      <td>45613982.7</td>\n",
       "      <td>10361568.8</td>\n",
       "    </tr>\n",
       "    <tr>\n",
       "      <th>3</th>\n",
       "      <td>2013</td>\n",
       "      <td>12 Years a Slave</td>\n",
       "      <td>FAIL</td>\n",
       "      <td>20000000</td>\n",
       "      <td>53107035.0</td>\n",
       "      <td>158607035.0</td>\n",
       "      <td>20000000</td>\n",
       "      <td>53107035.0</td>\n",
       "      <td>158607035.0</td>\n",
       "      <td>22000000.0</td>\n",
       "      <td>58417738.5</td>\n",
       "      <td>174467738.5</td>\n",
       "      <td>210885477.0</td>\n",
       "    </tr>\n",
       "    <tr>\n",
       "      <th>4</th>\n",
       "      <td>2013</td>\n",
       "      <td>2 Guns</td>\n",
       "      <td>FAIL</td>\n",
       "      <td>61000000</td>\n",
       "      <td>75612460.0</td>\n",
       "      <td>132493015.0</td>\n",
       "      <td>61000000</td>\n",
       "      <td>75612460.0</td>\n",
       "      <td>132493015.0</td>\n",
       "      <td>67100000.0</td>\n",
       "      <td>83173706.0</td>\n",
       "      <td>145742316.5</td>\n",
       "      <td>161816022.5</td>\n",
       "    </tr>\n",
       "    <tr>\n",
       "      <th>5</th>\n",
       "      <td>2013</td>\n",
       "      <td>42</td>\n",
       "      <td>FAIL</td>\n",
       "      <td>40000000</td>\n",
       "      <td>95020213.0</td>\n",
       "      <td>95020213.0</td>\n",
       "      <td>40000000</td>\n",
       "      <td>95020213.0</td>\n",
       "      <td>95020213.0</td>\n",
       "      <td>44000000.0</td>\n",
       "      <td>104522234.3</td>\n",
       "      <td>104522234.3</td>\n",
       "      <td>165044468.6</td>\n",
       "    </tr>\n",
       "  </tbody>\n",
       "</table>\n",
       "</div>"
      ],
      "text/plain": [
       "   year             title binary    budget    domgross     intgross  \\\n",
       "1  2013         21 & Over   FAIL  13000000  25682380.0   42195766.0   \n",
       "2  2012          Dredd 3D   PASS  45000000  13414714.0   40868994.0   \n",
       "3  2013  12 Years a Slave   FAIL  20000000  53107035.0  158607035.0   \n",
       "4  2013            2 Guns   FAIL  61000000  75612460.0  132493015.0   \n",
       "5  2013                42   FAIL  40000000  95020213.0   95020213.0   \n",
       "\n",
       "   budget_2013  domgross_2013  intgross_2013  budget_2019  domgross_2019  \\\n",
       "1     13000000     25682380.0     42195766.0   14300000.0     28250618.0   \n",
       "2     45658735     13611086.0     41467257.0   50224608.5     14972194.6   \n",
       "3     20000000     53107035.0    158607035.0   22000000.0     58417738.5   \n",
       "4     61000000     75612460.0    132493015.0   67100000.0     83173706.0   \n",
       "5     40000000     95020213.0     95020213.0   44000000.0    104522234.3   \n",
       "\n",
       "   intgross_2019       return  \n",
       "1     46415342.6   60365960.6  \n",
       "2     45613982.7   10361568.8  \n",
       "3    174467738.5  210885477.0  \n",
       "4    145742316.5  161816022.5  \n",
       "5    104522234.3  165044468.6  "
      ]
     },
     "execution_count": 11,
     "metadata": {},
     "output_type": "execute_result"
    }
   ],
   "source": [
    "bechdel2013.head()"
   ]
  },
  {
   "cell_type": "code",
   "execution_count": 12,
   "metadata": {},
   "outputs": [],
   "source": [
    "bechdel2013 = bechdel2013[bechdel2013.year == 2013]"
   ]
  },
  {
   "cell_type": "code",
   "execution_count": 13,
   "metadata": {
    "scrolled": true
   },
   "outputs": [
    {
     "data": {
      "text/html": [
       "<div>\n",
       "<style scoped>\n",
       "    .dataframe tbody tr th:only-of-type {\n",
       "        vertical-align: middle;\n",
       "    }\n",
       "\n",
       "    .dataframe tbody tr th {\n",
       "        vertical-align: top;\n",
       "    }\n",
       "\n",
       "    .dataframe thead th {\n",
       "        text-align: right;\n",
       "    }\n",
       "</style>\n",
       "<table border=\"1\" class=\"dataframe\">\n",
       "  <thead>\n",
       "    <tr style=\"text-align: right;\">\n",
       "      <th></th>\n",
       "      <th>year</th>\n",
       "      <th>title</th>\n",
       "      <th>binary</th>\n",
       "      <th>budget</th>\n",
       "      <th>domgross</th>\n",
       "      <th>intgross</th>\n",
       "      <th>budget_2013</th>\n",
       "      <th>domgross_2013</th>\n",
       "      <th>intgross_2013</th>\n",
       "      <th>budget_2019</th>\n",
       "      <th>domgross_2019</th>\n",
       "      <th>intgross_2019</th>\n",
       "      <th>return</th>\n",
       "    </tr>\n",
       "  </thead>\n",
       "  <tbody>\n",
       "    <tr>\n",
       "      <th>96</th>\n",
       "      <td>2013</td>\n",
       "      <td>Turbo</td>\n",
       "      <td>FAIL</td>\n",
       "      <td>135000000</td>\n",
       "      <td>83028130.0</td>\n",
       "      <td>283828130.0</td>\n",
       "      <td>135000000</td>\n",
       "      <td>83028130.0</td>\n",
       "      <td>283828130.0</td>\n",
       "      <td>148500000.0</td>\n",
       "      <td>91330943.0</td>\n",
       "      <td>312210943.0</td>\n",
       "      <td>255041886.0</td>\n",
       "    </tr>\n",
       "    <tr>\n",
       "      <th>97</th>\n",
       "      <td>2013</td>\n",
       "      <td>Warm Bodies</td>\n",
       "      <td>FAIL</td>\n",
       "      <td>30000000</td>\n",
       "      <td>66380662.0</td>\n",
       "      <td>116643610.0</td>\n",
       "      <td>30000000</td>\n",
       "      <td>66380662.0</td>\n",
       "      <td>116643610.0</td>\n",
       "      <td>33000000.0</td>\n",
       "      <td>73018728.2</td>\n",
       "      <td>128307971.0</td>\n",
       "      <td>168326699.2</td>\n",
       "    </tr>\n",
       "    <tr>\n",
       "      <th>98</th>\n",
       "      <td>2013</td>\n",
       "      <td>We're the Millers</td>\n",
       "      <td>PASS</td>\n",
       "      <td>37000000</td>\n",
       "      <td>150394119.0</td>\n",
       "      <td>270000119.0</td>\n",
       "      <td>37000000</td>\n",
       "      <td>150394119.0</td>\n",
       "      <td>270000119.0</td>\n",
       "      <td>40700000.0</td>\n",
       "      <td>165433530.9</td>\n",
       "      <td>297000130.9</td>\n",
       "      <td>421733661.8</td>\n",
       "    </tr>\n",
       "    <tr>\n",
       "      <th>99</th>\n",
       "      <td>2013</td>\n",
       "      <td>White House Down</td>\n",
       "      <td>FAIL</td>\n",
       "      <td>150000000</td>\n",
       "      <td>73103784.0</td>\n",
       "      <td>205440387.0</td>\n",
       "      <td>150000000</td>\n",
       "      <td>73103784.0</td>\n",
       "      <td>205440387.0</td>\n",
       "      <td>165000000.0</td>\n",
       "      <td>80414162.4</td>\n",
       "      <td>225984425.7</td>\n",
       "      <td>141398588.1</td>\n",
       "    </tr>\n",
       "    <tr>\n",
       "      <th>100</th>\n",
       "      <td>2013</td>\n",
       "      <td>World War Z</td>\n",
       "      <td>FAIL</td>\n",
       "      <td>190000000</td>\n",
       "      <td>202359711.0</td>\n",
       "      <td>539559711.0</td>\n",
       "      <td>190000000</td>\n",
       "      <td>202359711.0</td>\n",
       "      <td>539559711.0</td>\n",
       "      <td>209000000.0</td>\n",
       "      <td>222595682.1</td>\n",
       "      <td>593515682.1</td>\n",
       "      <td>607111364.2</td>\n",
       "    </tr>\n",
       "  </tbody>\n",
       "</table>\n",
       "</div>"
      ],
      "text/plain": [
       "     year              title binary     budget     domgross     intgross  \\\n",
       "96   2013              Turbo   FAIL  135000000   83028130.0  283828130.0   \n",
       "97   2013        Warm Bodies   FAIL   30000000   66380662.0  116643610.0   \n",
       "98   2013  We're the Millers   PASS   37000000  150394119.0  270000119.0   \n",
       "99   2013   White House Down   FAIL  150000000   73103784.0  205440387.0   \n",
       "100  2013        World War Z   FAIL  190000000  202359711.0  539559711.0   \n",
       "\n",
       "     budget_2013  domgross_2013  intgross_2013  budget_2019  domgross_2019  \\\n",
       "96     135000000     83028130.0    283828130.0  148500000.0     91330943.0   \n",
       "97      30000000     66380662.0    116643610.0   33000000.0     73018728.2   \n",
       "98      37000000    150394119.0    270000119.0   40700000.0    165433530.9   \n",
       "99     150000000     73103784.0    205440387.0  165000000.0     80414162.4   \n",
       "100    190000000    202359711.0    539559711.0  209000000.0    222595682.1   \n",
       "\n",
       "     intgross_2019       return  \n",
       "96     312210943.0  255041886.0  \n",
       "97     128307971.0  168326699.2  \n",
       "98     297000130.9  421733661.8  \n",
       "99     225984425.7  141398588.1  \n",
       "100    593515682.1  607111364.2  "
      ]
     },
     "execution_count": 13,
     "metadata": {},
     "output_type": "execute_result"
    }
   ],
   "source": [
    "bechdel2013.tail()"
   ]
  },
  {
   "cell_type": "code",
   "execution_count": 14,
   "metadata": {},
   "outputs": [
    {
     "data": {
      "text/html": [
       "<div>\n",
       "<style scoped>\n",
       "    .dataframe tbody tr th:only-of-type {\n",
       "        vertical-align: middle;\n",
       "    }\n",
       "\n",
       "    .dataframe tbody tr th {\n",
       "        vertical-align: top;\n",
       "    }\n",
       "\n",
       "    .dataframe thead th {\n",
       "        text-align: right;\n",
       "    }\n",
       "</style>\n",
       "<table border=\"1\" class=\"dataframe\">\n",
       "  <thead>\n",
       "    <tr style=\"text-align: right;\">\n",
       "      <th></th>\n",
       "      <th>year</th>\n",
       "      <th>binary</th>\n",
       "      <th>budget_2019</th>\n",
       "      <th>domgross_2019</th>\n",
       "      <th>intgross_2019</th>\n",
       "      <th>return</th>\n",
       "    </tr>\n",
       "    <tr>\n",
       "      <th>title</th>\n",
       "      <th></th>\n",
       "      <th></th>\n",
       "      <th></th>\n",
       "      <th></th>\n",
       "      <th></th>\n",
       "      <th></th>\n",
       "    </tr>\n",
       "  </thead>\n",
       "  <tbody>\n",
       "    <tr>\n",
       "      <th>21 &amp; Over</th>\n",
       "      <td>2013</td>\n",
       "      <td>FAIL</td>\n",
       "      <td>14300000.0</td>\n",
       "      <td>28250618.0</td>\n",
       "      <td>46415342.6</td>\n",
       "      <td>60365960.6</td>\n",
       "    </tr>\n",
       "    <tr>\n",
       "      <th>12 Years a Slave</th>\n",
       "      <td>2013</td>\n",
       "      <td>FAIL</td>\n",
       "      <td>22000000.0</td>\n",
       "      <td>58417738.5</td>\n",
       "      <td>174467738.5</td>\n",
       "      <td>210885477.0</td>\n",
       "    </tr>\n",
       "    <tr>\n",
       "      <th>2 Guns</th>\n",
       "      <td>2013</td>\n",
       "      <td>FAIL</td>\n",
       "      <td>67100000.0</td>\n",
       "      <td>83173706.0</td>\n",
       "      <td>145742316.5</td>\n",
       "      <td>161816022.5</td>\n",
       "    </tr>\n",
       "    <tr>\n",
       "      <th>42</th>\n",
       "      <td>2013</td>\n",
       "      <td>FAIL</td>\n",
       "      <td>44000000.0</td>\n",
       "      <td>104522234.3</td>\n",
       "      <td>104522234.3</td>\n",
       "      <td>165044468.6</td>\n",
       "    </tr>\n",
       "    <tr>\n",
       "      <th>47 Ronin</th>\n",
       "      <td>2013</td>\n",
       "      <td>FAIL</td>\n",
       "      <td>247500000.0</td>\n",
       "      <td>42198722.5</td>\n",
       "      <td>160384226.2</td>\n",
       "      <td>-44917051.3</td>\n",
       "    </tr>\n",
       "  </tbody>\n",
       "</table>\n",
       "</div>"
      ],
      "text/plain": [
       "                  year binary  budget_2019  domgross_2019  intgross_2019  \\\n",
       "title                                                                      \n",
       "21 & Over         2013   FAIL   14300000.0     28250618.0     46415342.6   \n",
       "12 Years a Slave  2013   FAIL   22000000.0     58417738.5    174467738.5   \n",
       "2 Guns            2013   FAIL   67100000.0     83173706.0    145742316.5   \n",
       "42                2013   FAIL   44000000.0    104522234.3    104522234.3   \n",
       "47 Ronin          2013   FAIL  247500000.0     42198722.5    160384226.2   \n",
       "\n",
       "                       return  \n",
       "title                          \n",
       "21 & Over          60365960.6  \n",
       "12 Years a Slave  210885477.0  \n",
       "2 Guns            161816022.5  \n",
       "42                165044468.6  \n",
       "47 Ronin          -44917051.3  "
      ]
     },
     "execution_count": 14,
     "metadata": {},
     "output_type": "execute_result"
    }
   ],
   "source": [
    "bechdel2013 = bechdel2013.drop(['budget', 'domgross', 'intgross', 'budget_2013', 'domgross_2013', 'intgross_2013'], axis=1) # drop the unused columns\n",
    "bechdel2013 = bechdel2013.set_index('title')\n",
    "bechdel2013.head()"
   ]
  },
  {
   "cell_type": "code",
   "execution_count": 15,
   "metadata": {},
   "outputs": [
    {
     "name": "stdout",
     "output_type": "stream",
     "text": [
      "                 binary       return\n",
      "title                               \n",
      "21 & Over          FAIL   60365960.6\n",
      "12 Years a Slave   FAIL  210885477.0\n",
      "2 Guns             FAIL  161816022.5\n",
      "42                 FAIL  165044468.6\n",
      "47 Ronin           FAIL  -44917051.3\n",
      "<class 'pandas.core.frame.DataFrame'>\n",
      "Index: 99 entries, 21 & Over to World War Z\n",
      "Data columns (total 2 columns):\n",
      "binary    99 non-null object\n",
      "return    99 non-null float64\n",
      "dtypes: float64(1), object(1)\n",
      "memory usage: 2.3+ KB\n"
     ]
    }
   ],
   "source": [
    "return2013 = pd.DataFrame(bechdel2013.loc[:,['binary', 'return']])\n",
    "print(return2013.head())\n",
    "return2013.info()"
   ]
  },
  {
   "cell_type": "code",
   "execution_count": 16,
   "metadata": {},
   "outputs": [
    {
     "data": {
      "text/plain": [
       "<matplotlib.axes._subplots.AxesSubplot at 0x114f356a0>"
      ]
     },
     "execution_count": 16,
     "metadata": {},
     "output_type": "execute_result"
    },
    {
     "data": {
      "image/png": "[encoded data removed]",
      "text/plain": [
       "<Figure size 432x432 with 1 Axes>"
      ]
     },
     "metadata": {
      "needs_background": "light"
     },
     "output_type": "display_data"
    }
   ],
   "source": [
    "return2013 = return2013.groupby(['binary']).sum()\n",
    "return2013.plot(kind='bar',stacked=True,figsize=(6,6),title='Return by Passing or not')"
   ]
  },
  {
   "cell_type": "code",
   "execution_count": 17,
   "metadata": {
    "scrolled": false
   },
   "outputs": [
    {
     "data": {
      "text/html": [
       "<div>\n",
       "<style scoped>\n",
       "    .dataframe tbody tr th:only-of-type {\n",
       "        vertical-align: middle;\n",
       "    }\n",
       "\n",
       "    .dataframe tbody tr th {\n",
       "        vertical-align: top;\n",
       "    }\n",
       "\n",
       "    .dataframe thead th {\n",
       "        text-align: right;\n",
       "    }\n",
       "</style>\n",
       "<table border=\"1\" class=\"dataframe\">\n",
       "  <thead>\n",
       "    <tr style=\"text-align: right;\">\n",
       "      <th></th>\n",
       "      <th>binary</th>\n",
       "      <th>domgross</th>\n",
       "      <th>intgross</th>\n",
       "      <th>budget</th>\n",
       "      <th>year</th>\n",
       "    </tr>\n",
       "    <tr>\n",
       "      <th>film name</th>\n",
       "      <th></th>\n",
       "      <th></th>\n",
       "      <th></th>\n",
       "      <th></th>\n",
       "      <th></th>\n",
       "    </tr>\n",
       "  </thead>\n",
       "  <tbody>\n",
       "    <tr>\n",
       "      <th>Aladdin</th>\n",
       "      <td>PASS</td>\n",
       "      <td>355559216.0</td>\n",
       "      <td>682244071.0</td>\n",
       "      <td>182000000.0</td>\n",
       "      <td>2019</td>\n",
       "    </tr>\n",
       "    <tr>\n",
       "      <th>Alita: Battle Angel</th>\n",
       "      <td>PASS</td>\n",
       "      <td>85710210.0</td>\n",
       "      <td>317261058.0</td>\n",
       "      <td>170000000.0</td>\n",
       "      <td>2019</td>\n",
       "    </tr>\n",
       "    <tr>\n",
       "      <th>Always Be My Maybe</th>\n",
       "      <td>PASS</td>\n",
       "      <td>NaN</td>\n",
       "      <td>NaN</td>\n",
       "      <td>NaN</td>\n",
       "      <td>2019</td>\n",
       "    </tr>\n",
       "    <tr>\n",
       "      <th>American Woman</th>\n",
       "      <td>PASS</td>\n",
       "      <td>236637.0</td>\n",
       "      <td>8799.0</td>\n",
       "      <td>NaN</td>\n",
       "      <td>2019</td>\n",
       "    </tr>\n",
       "    <tr>\n",
       "      <th>Anna</th>\n",
       "      <td>PASS</td>\n",
       "      <td>7743794.0</td>\n",
       "      <td>23174297.0</td>\n",
       "      <td>30000000.0</td>\n",
       "      <td>2019</td>\n",
       "    </tr>\n",
       "  </tbody>\n",
       "</table>\n",
       "</div>"
      ],
      "text/plain": [
       "                      binary     domgross     intgross       budget  year\n",
       "film name                                                                \n",
       "  Aladdin               PASS  355559216.0  682244071.0  182000000.0  2019\n",
       "  Alita: Battle Angel   PASS   85710210.0  317261058.0  170000000.0  2019\n",
       "  Always Be My Maybe    PASS          NaN          NaN          NaN  2019\n",
       "  American Woman        PASS     236637.0       8799.0          NaN  2019\n",
       "  Anna                  PASS    7743794.0   23174297.0   30000000.0  2019"
      ]
     },
     "execution_count": 17,
     "metadata": {},
     "output_type": "execute_result"
    }
   ],
   "source": [
    "bechdel = pd.read_csv(\"~/desktop/2019 bechdel.csv\", index_col = 0, dtype = {'domgross':np.float64, 'year':np.int32})\n",
    "bechdel.head()"
   ]
  },
  {
   "cell_type": "code",
   "execution_count": 18,
   "metadata": {},
   "outputs": [],
   "source": [
    "sep = bechdel[['domgross', 'intgross', 'budget']]\n",
    "ind = sep.dropna(how = 'all').index\n",
    "bechdel = bechdel.loc[ind,]"
   ]
  },
  {
   "cell_type": "code",
   "execution_count": 19,
   "metadata": {},
   "outputs": [],
   "source": [
    "bechdel2019 = bechdel[bechdel.year == 2019]\n",
    "bechdel2016 = bechdel[bechdel.year == 2016]"
   ]
  },
  {
   "cell_type": "markdown",
   "metadata": {},
   "source": [
    "### 2016 data"
   ]
  },
  {
   "cell_type": "code",
   "execution_count": 20,
   "metadata": {
    "scrolled": false
   },
   "outputs": [
    {
     "name": "stderr",
     "output_type": "stream",
     "text": [
      "/Users/wangyihan/anaconda3/lib/python3.7/site-packages/pandas/core/indexing.py:362: SettingWithCopyWarning: \n",
      "A value is trying to be set on a copy of a slice from a DataFrame.\n",
      "Try using .loc[row_indexer,col_indexer] = value instead\n",
      "\n",
      "See the caveats in the documentation: http://pandas.pydata.org/pandas-docs/stable/indexing.html#indexing-view-versus-copy\n",
      "  self.obj[key] = _infer_fill_value(value)\n",
      "/Users/wangyihan/anaconda3/lib/python3.7/site-packages/pandas/core/indexing.py:543: SettingWithCopyWarning: \n",
      "A value is trying to be set on a copy of a slice from a DataFrame.\n",
      "Try using .loc[row_indexer,col_indexer] = value instead\n",
      "\n",
      "See the caveats in the documentation: http://pandas.pydata.org/pandas-docs/stable/indexing.html#indexing-view-versus-copy\n",
      "  self.obj[item] = s\n"
     ]
    }
   ],
   "source": [
    "bechdel2016.loc[:,'budget_2019'] = 1.07 * bechdel2016.loc[:,'budget']"
   ]
  },
  {
   "cell_type": "code",
   "execution_count": 21,
   "metadata": {},
   "outputs": [],
   "source": [
    "bechdel2016.loc[:,'domgross_2019'] = 1.07 * bechdel2016.domgross"
   ]
  },
  {
   "cell_type": "code",
   "execution_count": 22,
   "metadata": {},
   "outputs": [],
   "source": [
    "bechdel2016.loc[:,'intgross_2019'] = 1.07 * bechdel2016.loc[:,'intgross']"
   ]
  },
  {
   "cell_type": "code",
   "execution_count": 23,
   "metadata": {},
   "outputs": [],
   "source": [
    "bechdel2016.loc[:,'return'] = bechdel2016.loc[:,'intgross_2019'] + bechdel2016.loc[:,'domgross_2019'] - bechdel2016.loc[:,'budget_2019']"
   ]
  },
  {
   "cell_type": "code",
   "execution_count": 24,
   "metadata": {},
   "outputs": [],
   "source": [
    "bechdel2016 = bechdel2016.drop(['domgross', 'intgross', 'budget'], axis = 1)"
   ]
  },
  {
   "cell_type": "code",
   "execution_count": 25,
   "metadata": {},
   "outputs": [
    {
     "data": {
      "text/plain": [
       "numpy.int32"
      ]
     },
     "execution_count": 25,
     "metadata": {},
     "output_type": "execute_result"
    }
   ],
   "source": [
    "type(bechdel.year[0])"
   ]
  },
  {
   "cell_type": "code",
   "execution_count": 26,
   "metadata": {
    "scrolled": true
   },
   "outputs": [
    {
     "data": {
      "text/html": [
       "<div>\n",
       "<style scoped>\n",
       "    .dataframe tbody tr th:only-of-type {\n",
       "        vertical-align: middle;\n",
       "    }\n",
       "\n",
       "    .dataframe tbody tr th {\n",
       "        vertical-align: top;\n",
       "    }\n",
       "\n",
       "    .dataframe thead th {\n",
       "        text-align: right;\n",
       "    }\n",
       "</style>\n",
       "<table border=\"1\" class=\"dataframe\">\n",
       "  <thead>\n",
       "    <tr style=\"text-align: right;\">\n",
       "      <th></th>\n",
       "      <th>binary</th>\n",
       "      <th>year</th>\n",
       "      <th>budget_2019</th>\n",
       "      <th>domgross_2019</th>\n",
       "      <th>intgross_2019</th>\n",
       "      <th>return</th>\n",
       "    </tr>\n",
       "    <tr>\n",
       "      <th>film name</th>\n",
       "      <th></th>\n",
       "      <th></th>\n",
       "      <th></th>\n",
       "      <th></th>\n",
       "      <th></th>\n",
       "      <th></th>\n",
       "    </tr>\n",
       "  </thead>\n",
       "  <tbody>\n",
       "    <tr>\n",
       "      <th>10 Cloverfield Lane</th>\n",
       "      <td>PASS</td>\n",
       "      <td>2016</td>\n",
       "      <td>16050000.00</td>\n",
       "      <td>77128808.93</td>\n",
       "      <td>3.873766e+07</td>\n",
       "      <td>99816471.54</td>\n",
       "    </tr>\n",
       "    <tr>\n",
       "      <th>10 Days In A Madhouse</th>\n",
       "      <td>PASS</td>\n",
       "      <td>2016</td>\n",
       "      <td>12840000.00</td>\n",
       "      <td>15639.12</td>\n",
       "      <td>NaN</td>\n",
       "      <td>NaN</td>\n",
       "    </tr>\n",
       "    <tr>\n",
       "      <th>20th Century Women</th>\n",
       "      <td>PASS</td>\n",
       "      <td>2016</td>\n",
       "      <td>6163070.53</td>\n",
       "      <td>6061296.41</td>\n",
       "      <td>1.583734e+06</td>\n",
       "      <td>1481959.63</td>\n",
       "    </tr>\n",
       "    <tr>\n",
       "      <th>The 5th Wave</th>\n",
       "      <td>FAIL</td>\n",
       "      <td>2016</td>\n",
       "      <td>NaN</td>\n",
       "      <td>37356890.74</td>\n",
       "      <td>1.191299e+08</td>\n",
       "      <td>NaN</td>\n",
       "    </tr>\n",
       "    <tr>\n",
       "      <th>The 9th Life of Louis Drax</th>\n",
       "      <td>FAIL</td>\n",
       "      <td>2016</td>\n",
       "      <td>NaN</td>\n",
       "      <td>0.00</td>\n",
       "      <td>5.451511e+05</td>\n",
       "      <td>NaN</td>\n",
       "    </tr>\n",
       "  </tbody>\n",
       "</table>\n",
       "</div>"
      ],
      "text/plain": [
       "                           binary  year  budget_2019  domgross_2019  \\\n",
       "film name                                                             \n",
       "10 Cloverfield Lane          PASS  2016  16050000.00    77128808.93   \n",
       "10 Days In A Madhouse        PASS  2016  12840000.00       15639.12   \n",
       "20th Century Women           PASS  2016   6163070.53     6061296.41   \n",
       "The 5th Wave                 FAIL  2016          NaN    37356890.74   \n",
       "The 9th Life of Louis Drax   FAIL  2016          NaN           0.00   \n",
       "\n",
       "                            intgross_2019       return  \n",
       "film name                                               \n",
       "10 Cloverfield Lane          3.873766e+07  99816471.54  \n",
       "10 Days In A Madhouse                 NaN          NaN  \n",
       "20th Century Women           1.583734e+06   1481959.63  \n",
       "The 5th Wave                 1.191299e+08          NaN  \n",
       "The 9th Life of Louis Drax   5.451511e+05          NaN  "
      ]
     },
     "execution_count": 26,
     "metadata": {},
     "output_type": "execute_result"
    }
   ],
   "source": [
    "bechdel2016.head()"
   ]
  },
  {
   "cell_type": "markdown",
   "metadata": {},
   "source": [
    "### 2019 data"
   ]
  },
  {
   "cell_type": "code",
   "execution_count": 27,
   "metadata": {
    "scrolled": true
   },
   "outputs": [
    {
     "name": "stderr",
     "output_type": "stream",
     "text": [
      "/Users/wangyihan/anaconda3/lib/python3.7/site-packages/ipykernel_launcher.py:4: SettingWithCopyWarning: \n",
      "A value is trying to be set on a copy of a slice from a DataFrame.\n",
      "Try using .loc[row_indexer,col_indexer] = value instead\n",
      "\n",
      "See the caveats in the documentation: http://pandas.pydata.org/pandas-docs/stable/indexing.html#indexing-view-versus-copy\n",
      "  after removing the cwd from sys.path.\n"
     ]
    },
    {
     "data": {
      "text/html": [
       "<div>\n",
       "<style scoped>\n",
       "    .dataframe tbody tr th:only-of-type {\n",
       "        vertical-align: middle;\n",
       "    }\n",
       "\n",
       "    .dataframe tbody tr th {\n",
       "        vertical-align: top;\n",
       "    }\n",
       "\n",
       "    .dataframe thead th {\n",
       "        text-align: right;\n",
       "    }\n",
       "</style>\n",
       "<table border=\"1\" class=\"dataframe\">\n",
       "  <thead>\n",
       "    <tr style=\"text-align: right;\">\n",
       "      <th></th>\n",
       "      <th>binary</th>\n",
       "      <th>domgross</th>\n",
       "      <th>intgross</th>\n",
       "      <th>budget</th>\n",
       "      <th>year</th>\n",
       "      <th>budget_2019</th>\n",
       "      <th>domgross_2019</th>\n",
       "      <th>intgross_2019</th>\n",
       "      <th>return</th>\n",
       "    </tr>\n",
       "    <tr>\n",
       "      <th>film name</th>\n",
       "      <th></th>\n",
       "      <th></th>\n",
       "      <th></th>\n",
       "      <th></th>\n",
       "      <th></th>\n",
       "      <th></th>\n",
       "      <th></th>\n",
       "      <th></th>\n",
       "      <th></th>\n",
       "    </tr>\n",
       "  </thead>\n",
       "  <tbody>\n",
       "    <tr>\n",
       "      <th>Aladdin</th>\n",
       "      <td>PASS</td>\n",
       "      <td>355559216.0</td>\n",
       "      <td>682244071.0</td>\n",
       "      <td>182000000.0</td>\n",
       "      <td>2019</td>\n",
       "      <td>182000000.0</td>\n",
       "      <td>355559216.0</td>\n",
       "      <td>682244071.0</td>\n",
       "      <td>855803287.0</td>\n",
       "    </tr>\n",
       "    <tr>\n",
       "      <th>Alita: Battle Angel</th>\n",
       "      <td>PASS</td>\n",
       "      <td>85710210.0</td>\n",
       "      <td>317261058.0</td>\n",
       "      <td>170000000.0</td>\n",
       "      <td>2019</td>\n",
       "      <td>170000000.0</td>\n",
       "      <td>85710210.0</td>\n",
       "      <td>317261058.0</td>\n",
       "      <td>232971268.0</td>\n",
       "    </tr>\n",
       "    <tr>\n",
       "      <th>American Woman</th>\n",
       "      <td>PASS</td>\n",
       "      <td>236637.0</td>\n",
       "      <td>8799.0</td>\n",
       "      <td>NaN</td>\n",
       "      <td>2019</td>\n",
       "      <td>NaN</td>\n",
       "      <td>236637.0</td>\n",
       "      <td>8799.0</td>\n",
       "      <td>NaN</td>\n",
       "    </tr>\n",
       "    <tr>\n",
       "      <th>Anna</th>\n",
       "      <td>PASS</td>\n",
       "      <td>7743794.0</td>\n",
       "      <td>23174297.0</td>\n",
       "      <td>30000000.0</td>\n",
       "      <td>2019</td>\n",
       "      <td>30000000.0</td>\n",
       "      <td>7743794.0</td>\n",
       "      <td>23174297.0</td>\n",
       "      <td>918091.0</td>\n",
       "    </tr>\n",
       "    <tr>\n",
       "      <th>Annabelle Comes Home</th>\n",
       "      <td>PASS</td>\n",
       "      <td>74152591.0</td>\n",
       "      <td>154400000.0</td>\n",
       "      <td>NaN</td>\n",
       "      <td>2019</td>\n",
       "      <td>NaN</td>\n",
       "      <td>74152591.0</td>\n",
       "      <td>154400000.0</td>\n",
       "      <td>NaN</td>\n",
       "    </tr>\n",
       "  </tbody>\n",
       "</table>\n",
       "</div>"
      ],
      "text/plain": [
       "                       binary     domgross     intgross       budget  year  \\\n",
       "film name                                                                    \n",
       "  Aladdin                PASS  355559216.0  682244071.0  182000000.0  2019   \n",
       "  Alita: Battle Angel    PASS   85710210.0  317261058.0  170000000.0  2019   \n",
       "  American Woman         PASS     236637.0       8799.0          NaN  2019   \n",
       "  Anna                   PASS    7743794.0   23174297.0   30000000.0  2019   \n",
       "  Annabelle Comes Home   PASS   74152591.0  154400000.0          NaN  2019   \n",
       "\n",
       "                        budget_2019  domgross_2019  intgross_2019       return  \n",
       "film name                                                                       \n",
       "  Aladdin               182000000.0    355559216.0    682244071.0  855803287.0  \n",
       "  Alita: Battle Angel   170000000.0     85710210.0    317261058.0  232971268.0  \n",
       "  American Woman                NaN       236637.0         8799.0          NaN  \n",
       "  Anna                   30000000.0      7743794.0     23174297.0     918091.0  \n",
       "  Annabelle Comes Home          NaN     74152591.0    154400000.0          NaN  "
      ]
     },
     "execution_count": 27,
     "metadata": {},
     "output_type": "execute_result"
    }
   ],
   "source": [
    "bechdel2019.loc[:,'budget_2019'] = bechdel2019.budget\n",
    "bechdel2019.loc[:,'domgross_2019'] = bechdel2019.domgross\n",
    "bechdel2019.loc[:,'intgross_2019'] = bechdel2019.intgross\n",
    "bechdel2019['return'] = bechdel2019.intgross_2019 + bechdel2019.domgross_2019 - bechdel2019.budget_2019\n",
    "bechdel2019.head()"
   ]
  },
  {
   "cell_type": "code",
   "execution_count": 28,
   "metadata": {},
   "outputs": [
    {
     "data": {
      "text/html": [
       "<div>\n",
       "<style scoped>\n",
       "    .dataframe tbody tr th:only-of-type {\n",
       "        vertical-align: middle;\n",
       "    }\n",
       "\n",
       "    .dataframe tbody tr th {\n",
       "        vertical-align: top;\n",
       "    }\n",
       "\n",
       "    .dataframe thead th {\n",
       "        text-align: right;\n",
       "    }\n",
       "</style>\n",
       "<table border=\"1\" class=\"dataframe\">\n",
       "  <thead>\n",
       "    <tr style=\"text-align: right;\">\n",
       "      <th></th>\n",
       "      <th>binary</th>\n",
       "      <th>year</th>\n",
       "      <th>budget_2019</th>\n",
       "      <th>domgross_2019</th>\n",
       "      <th>intgross_2019</th>\n",
       "      <th>return</th>\n",
       "    </tr>\n",
       "    <tr>\n",
       "      <th>film name</th>\n",
       "      <th></th>\n",
       "      <th></th>\n",
       "      <th></th>\n",
       "      <th></th>\n",
       "      <th></th>\n",
       "      <th></th>\n",
       "    </tr>\n",
       "  </thead>\n",
       "  <tbody>\n",
       "    <tr>\n",
       "      <th>Aladdin</th>\n",
       "      <td>PASS</td>\n",
       "      <td>2019</td>\n",
       "      <td>182000000.0</td>\n",
       "      <td>355559216.0</td>\n",
       "      <td>682244071.0</td>\n",
       "      <td>855803287.0</td>\n",
       "    </tr>\n",
       "    <tr>\n",
       "      <th>Alita: Battle Angel</th>\n",
       "      <td>PASS</td>\n",
       "      <td>2019</td>\n",
       "      <td>170000000.0</td>\n",
       "      <td>85710210.0</td>\n",
       "      <td>317261058.0</td>\n",
       "      <td>232971268.0</td>\n",
       "    </tr>\n",
       "    <tr>\n",
       "      <th>American Woman</th>\n",
       "      <td>PASS</td>\n",
       "      <td>2019</td>\n",
       "      <td>NaN</td>\n",
       "      <td>236637.0</td>\n",
       "      <td>8799.0</td>\n",
       "      <td>NaN</td>\n",
       "    </tr>\n",
       "    <tr>\n",
       "      <th>Anna</th>\n",
       "      <td>PASS</td>\n",
       "      <td>2019</td>\n",
       "      <td>30000000.0</td>\n",
       "      <td>7743794.0</td>\n",
       "      <td>23174297.0</td>\n",
       "      <td>918091.0</td>\n",
       "    </tr>\n",
       "    <tr>\n",
       "      <th>Annabelle Comes Home</th>\n",
       "      <td>PASS</td>\n",
       "      <td>2019</td>\n",
       "      <td>NaN</td>\n",
       "      <td>74152591.0</td>\n",
       "      <td>154400000.0</td>\n",
       "      <td>NaN</td>\n",
       "    </tr>\n",
       "  </tbody>\n",
       "</table>\n",
       "</div>"
      ],
      "text/plain": [
       "                       binary  year  budget_2019  domgross_2019  \\\n",
       "film name                                                         \n",
       "  Aladdin                PASS  2019  182000000.0    355559216.0   \n",
       "  Alita: Battle Angel    PASS  2019  170000000.0     85710210.0   \n",
       "  American Woman         PASS  2019          NaN       236637.0   \n",
       "  Anna                   PASS  2019   30000000.0      7743794.0   \n",
       "  Annabelle Comes Home   PASS  2019          NaN     74152591.0   \n",
       "\n",
       "                        intgross_2019       return  \n",
       "film name                                           \n",
       "  Aladdin                 682244071.0  855803287.0  \n",
       "  Alita: Battle Angel     317261058.0  232971268.0  \n",
       "  American Woman               8799.0          NaN  \n",
       "  Anna                     23174297.0     918091.0  \n",
       "  Annabelle Comes Home    154400000.0          NaN  "
      ]
     },
     "execution_count": 28,
     "metadata": {},
     "output_type": "execute_result"
    }
   ],
   "source": [
    "bechdel2019 = bechdel2019.drop(['domgross', 'intgross', 'budget'], axis = 1)\n",
    "bechdel2019.head()"
   ]
  },
  {
   "cell_type": "markdown",
   "metadata": {},
   "source": [
    "### ALL"
   ]
  },
  {
   "cell_type": "code",
   "execution_count": 29,
   "metadata": {
    "scrolled": true
   },
   "outputs": [
    {
     "data": {
      "text/html": [
       "<div>\n",
       "<style scoped>\n",
       "    .dataframe tbody tr th:only-of-type {\n",
       "        vertical-align: middle;\n",
       "    }\n",
       "\n",
       "    .dataframe tbody tr th {\n",
       "        vertical-align: top;\n",
       "    }\n",
       "\n",
       "    .dataframe thead th {\n",
       "        text-align: right;\n",
       "    }\n",
       "</style>\n",
       "<table border=\"1\" class=\"dataframe\">\n",
       "  <thead>\n",
       "    <tr style=\"text-align: right;\">\n",
       "      <th></th>\n",
       "      <th>year</th>\n",
       "      <th>binary</th>\n",
       "      <th>budget_2019</th>\n",
       "      <th>domgross_2019</th>\n",
       "      <th>intgross_2019</th>\n",
       "      <th>return</th>\n",
       "    </tr>\n",
       "  </thead>\n",
       "  <tbody>\n",
       "    <tr>\n",
       "      <th>21 &amp; Over</th>\n",
       "      <td>2013</td>\n",
       "      <td>FAIL</td>\n",
       "      <td>14300000.0</td>\n",
       "      <td>28250618.0</td>\n",
       "      <td>46415342.6</td>\n",
       "      <td>60365960.6</td>\n",
       "    </tr>\n",
       "    <tr>\n",
       "      <th>12 Years a Slave</th>\n",
       "      <td>2013</td>\n",
       "      <td>FAIL</td>\n",
       "      <td>22000000.0</td>\n",
       "      <td>58417738.5</td>\n",
       "      <td>174467738.5</td>\n",
       "      <td>210885477.0</td>\n",
       "    </tr>\n",
       "    <tr>\n",
       "      <th>2 Guns</th>\n",
       "      <td>2013</td>\n",
       "      <td>FAIL</td>\n",
       "      <td>67100000.0</td>\n",
       "      <td>83173706.0</td>\n",
       "      <td>145742316.5</td>\n",
       "      <td>161816022.5</td>\n",
       "    </tr>\n",
       "    <tr>\n",
       "      <th>42</th>\n",
       "      <td>2013</td>\n",
       "      <td>FAIL</td>\n",
       "      <td>44000000.0</td>\n",
       "      <td>104522234.3</td>\n",
       "      <td>104522234.3</td>\n",
       "      <td>165044468.6</td>\n",
       "    </tr>\n",
       "    <tr>\n",
       "      <th>47 Ronin</th>\n",
       "      <td>2013</td>\n",
       "      <td>FAIL</td>\n",
       "      <td>247500000.0</td>\n",
       "      <td>42198722.5</td>\n",
       "      <td>160384226.2</td>\n",
       "      <td>-44917051.3</td>\n",
       "    </tr>\n",
       "  </tbody>\n",
       "</table>\n",
       "</div>"
      ],
      "text/plain": [
       "                  year binary  budget_2019  domgross_2019  intgross_2019  \\\n",
       "21 & Over         2013   FAIL   14300000.0     28250618.0     46415342.6   \n",
       "12 Years a Slave  2013   FAIL   22000000.0     58417738.5    174467738.5   \n",
       "2 Guns            2013   FAIL   67100000.0     83173706.0    145742316.5   \n",
       "42                2013   FAIL   44000000.0    104522234.3    104522234.3   \n",
       "47 Ronin          2013   FAIL  247500000.0     42198722.5    160384226.2   \n",
       "\n",
       "                       return  \n",
       "21 & Over          60365960.6  \n",
       "12 Years a Slave  210885477.0  \n",
       "2 Guns            161816022.5  \n",
       "42                165044468.6  \n",
       "47 Ronin          -44917051.3  "
      ]
     },
     "execution_count": 29,
     "metadata": {},
     "output_type": "execute_result"
    }
   ],
   "source": [
    "total = pd.concat([bechdel2013, bechdel2016, bechdel2019], sort = False)\n",
    "total.head()"
   ]
  },
  {
   "cell_type": "markdown",
   "metadata": {},
   "source": [
    "### bar plot: gross over year"
   ]
  },
  {
   "cell_type": "code",
   "execution_count": 30,
   "metadata": {},
   "outputs": [],
   "source": [
    "total['gross'] = total.intgross_2019 + total.domgross_2019"
   ]
  },
  {
   "cell_type": "code",
   "execution_count": 31,
   "metadata": {},
   "outputs": [
    {
     "data": {
      "text/html": [
       "<div>\n",
       "<style scoped>\n",
       "    .dataframe tbody tr th:only-of-type {\n",
       "        vertical-align: middle;\n",
       "    }\n",
       "\n",
       "    .dataframe tbody tr th {\n",
       "        vertical-align: top;\n",
       "    }\n",
       "\n",
       "    .dataframe thead tr th {\n",
       "        text-align: left;\n",
       "    }\n",
       "\n",
       "    .dataframe thead tr:last-of-type th {\n",
       "        text-align: right;\n",
       "    }\n",
       "</style>\n",
       "<table border=\"1\" class=\"dataframe\">\n",
       "  <thead>\n",
       "    <tr>\n",
       "      <th></th>\n",
       "      <th colspan=\"2\" halign=\"left\">gross</th>\n",
       "    </tr>\n",
       "    <tr>\n",
       "      <th>binary</th>\n",
       "      <th>FAIL</th>\n",
       "      <th>PASS</th>\n",
       "    </tr>\n",
       "    <tr>\n",
       "      <th>year</th>\n",
       "      <th></th>\n",
       "      <th></th>\n",
       "    </tr>\n",
       "  </thead>\n",
       "  <tbody>\n",
       "    <tr>\n",
       "      <th>2013</th>\n",
       "      <td>3.452977e+08</td>\n",
       "      <td>3.371010e+08</td>\n",
       "    </tr>\n",
       "    <tr>\n",
       "      <th>2016</th>\n",
       "      <td>1.144391e+08</td>\n",
       "      <td>1.318532e+08</td>\n",
       "    </tr>\n",
       "    <tr>\n",
       "      <th>2019</th>\n",
       "      <td>1.981420e+08</td>\n",
       "      <td>4.116373e+08</td>\n",
       "    </tr>\n",
       "  </tbody>\n",
       "</table>\n",
       "</div>"
      ],
      "text/plain": [
       "               gross              \n",
       "binary          FAIL          PASS\n",
       "year                              \n",
       "2013    3.452977e+08  3.371010e+08\n",
       "2016    1.144391e+08  1.318532e+08\n",
       "2019    1.981420e+08  4.116373e+08"
      ]
     },
     "execution_count": 31,
     "metadata": {},
     "output_type": "execute_result"
    }
   ],
   "source": [
    "a = total[['year', 'binary', 'gross']].groupby(['year','binary']).mean().unstack()\n",
    "a"
   ]
  },
  {
   "cell_type": "code",
   "execution_count": 71,
   "metadata": {
    "scrolled": true
   },
   "outputs": [
    {
     "data": {
      "text/plain": [
       "year\n",
       "2013    8.196760e+06\n",
       "2016   -1.741409e+07\n",
       "2019   -2.134953e+08\n",
       "dtype: float64"
      ]
     },
     "execution_count": 71,
     "metadata": {},
     "output_type": "execute_result"
    }
   ],
   "source": [
    "d = a.iloc[:,0] - a.iloc[:,1]\n",
    "d"
   ]
  },
  {
   "cell_type": "code",
   "execution_count": 78,
   "metadata": {},
   "outputs": [
    {
     "data": {
      "text/plain": [
       "year\n",
       "2013   -0.023738\n",
       "2016    0.152169\n",
       "2019    1.077486\n",
       "dtype: float64"
      ]
     },
     "execution_count": 78,
     "metadata": {},
     "output_type": "execute_result"
    }
   ],
   "source": [
    "p = (a.iloc[:,1] - a.iloc[:,0]) / a.iloc[:,0]\n",
    "p"
   ]
  },
  {
   "cell_type": "code",
   "execution_count": 131,
   "metadata": {},
   "outputs": [
    {
     "data": {
      "text/plain": [
       "Text(0.5, 1.0, 'Gross for Pass and Not Pass Movies Over Time')"
      ]
     },
     "execution_count": 131,
     "metadata": {},
     "output_type": "execute_result"
    },
    {
     "data": {
      "image/png": "[encoded data removed]",
      "text/plain": [
       "<Figure size 432x288 with 1 Axes>"
      ]
     },
     "metadata": {
      "needs_background": "light"
     },
     "output_type": "display_data"
    }
   ],
   "source": [
    "a.plot(kind = 'bar')\n",
    "plt.legend(['Fail', 'Pass'], loc='upper center')\n",
    "plt.ylabel('gross')\n",
    "plt.title('Gross for Pass and Not Pass Movies Over Time')"
   ]
  },
  {
   "cell_type": "code",
   "execution_count": 79,
   "metadata": {},
   "outputs": [
    {
     "data": {
      "text/plain": [
       "<matplotlib.axes._subplots.AxesSubplot at 0x116755518>"
      ]
     },
     "execution_count": 79,
     "metadata": {},
     "output_type": "execute_result"
    },
    {
     "data": {
      "image/png": "[encoded data removed]",
      "text/plain": [
       "<Figure size 432x288 with 1 Axes>"
      ]
     },
     "metadata": {
      "needs_background": "light"
     },
     "output_type": "display_data"
    }
   ],
   "source": [
    "p.plot()"
   ]
  },
  {
   "cell_type": "code",
   "execution_count": 102,
   "metadata": {},
   "outputs": [
    {
     "name": "stdout",
     "output_type": "stream",
     "text": [
      "[0.1835374]\n",
      "-369.60943113337765\n"
     ]
    }
   ],
   "source": [
    "p = np.array(p)\n",
    "year = np.array([2013,2016,2019]).reshape((-1, 1))\n",
    "model = LinearRegression().fit(year, p)\n",
    "print(model.coef_)\n",
    "print(model.intercept_)"
   ]
  },
  {
   "cell_type": "code",
   "execution_count": 103,
   "metadata": {},
   "outputs": [
    {
     "data": {
      "text/plain": [
       "[<matplotlib.lines.Line2D at 0x1a190f24a8>]"
      ]
     },
     "execution_count": 103,
     "metadata": {},
     "output_type": "execute_result"
    },
    {
     "data": {
      "image/png": "[encoded data removed]",
      "text/plain": [
       "<Figure size 432x288 with 1 Axes>"
      ]
     },
     "metadata": {
      "needs_background": "light"
     },
     "output_type": "display_data"
    }
   ],
   "source": [
    "p_pred = model.predict(year)\n",
    "plt.scatter(year,p)\n",
    "plt.plot(year,p_pred)\n",
    "plt.title('linear model')\n",
    "plt.xlabel('year')\n",
    "plt.ylabel('percentage of increase ')"
   ]
  },
  {
   "cell_type": "code",
   "execution_count": 110,
   "metadata": {},
   "outputs": [
    {
     "name": "stderr",
     "output_type": "stream",
     "text": [
      "/Users/wangyihan/anaconda3/lib/python3.7/site-packages/sklearn/svm/base.py:193: FutureWarning: The default value of gamma will change from 'auto' to 'scale' in version 0.22 to account better for unscaled features. Set gamma explicitly to 'auto' or 'scale' to avoid this warning.\n",
      "  \"avoid this warning.\", FutureWarning)\n"
     ]
    },
    {
     "data": {
      "text/plain": [
       "[<matplotlib.lines.Line2D at 0x1a19239240>]"
      ]
     },
     "execution_count": 110,
     "metadata": {},
     "output_type": "execute_result"
    },
    {
     "data": {
      "image/png": "[encoded data removed]",
      "text/plain": [
       "<Figure size 432x288 with 1 Axes>"
      ]
     },
     "metadata": {
      "needs_background": "light"
     },
     "output_type": "display_data"
    }
   ],
   "source": [
    "model2 = svm.SVR().fit(year, p)\n",
    "p_pred2 = model2.predict(year)\n",
    "plt.scatter(year,p)\n",
    "plt.plot(year,p_pred2)\n",
    "plt.title('SVM model')"
   ]
  },
  {
   "cell_type": "code",
   "execution_count": 143,
   "metadata": {},
   "outputs": [
    {
     "data": {
      "text/plain": [
       "<matplotlib.axes._subplots.AxesSubplot at 0x1a19a82a20>"
      ]
     },
     "execution_count": 143,
     "metadata": {},
     "output_type": "execute_result"
    },
    {
     "data": {
      "image/png": "[encoded data removed]",
      "text/plain": [
       "<Figure size 432x288 with 1 Axes>"
      ]
     },
     "metadata": {
      "needs_background": "light"
     },
     "output_type": "display_data"
    }
   ],
   "source": [
    "sns.violinplot(x = 'binary', y = 'gross', data = total)"
   ]
  },
  {
   "cell_type": "code",
   "execution_count": 144,
   "metadata": {},
   "outputs": [
    {
     "data": {
      "text/plain": [
       "<matplotlib.axes._subplots.AxesSubplot at 0x1a19b626a0>"
      ]
     },
     "execution_count": 144,
     "metadata": {},
     "output_type": "execute_result"
    },
    {
     "data": {
      "image/png": "[encoded data removed]",
      "text/plain": [
       "<Figure size 432x288 with 1 Axes>"
      ]
     },
     "metadata": {
      "needs_background": "light"
     },
     "output_type": "display_data"
    }
   ],
   "source": [
    "sns.violinplot(x = 'year', y = 'gross', data = total)"
   ]
  },
  {
   "cell_type": "code",
   "execution_count": 146,
   "metadata": {},
   "outputs": [
    {
     "data": {
      "text/plain": [
       "Text(0.5, 1.0, 'Gross by year and binary')"
      ]
     },
     "execution_count": 146,
     "metadata": {},
     "output_type": "execute_result"
    },
    {
     "data": {
      "image/png": "[encoded data removed]",
      "text/plain": [
       "<Figure size 432x288 with 1 Axes>"
      ]
     },
     "metadata": {
      "needs_background": "light"
     },
     "output_type": "display_data"
    }
   ],
   "source": [
    "sns.violinplot(x = 'year', y = 'gross', hue = 'binary', data = total)\n",
    "plt.title('Gross by year and binary')"
   ]
  },
  {
   "cell_type": "code",
   "execution_count": null,
   "metadata": {},
   "outputs": [],
   "source": []
  }
 ],
 "metadata": {
  "kernelspec": {
   "display_name": "Python 3",
   "language": "python",
   "name": "python3"
  },
  "language_info": {
   "codemirror_mode": {
    "name": "ipython",
    "version": 3
   },
   "file_extension": ".py",
   "mimetype": "text/x-python",
   "name": "python",
   "nbconvert_exporter": "python",
   "pygments_lexer": "ipython3",
   "version": "3.7.3"
  }
 },
 "nbformat": 4,
 "nbformat_minor": 2
}
